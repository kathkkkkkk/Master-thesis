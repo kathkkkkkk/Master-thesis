{
 "cells": [
  {
   "cell_type": "code",
   "execution_count": 23,
   "metadata": {},
   "outputs": [],
   "source": [
    "import numpy as np \n",
    "from math import pi\n",
    "import sympy as sy\n",
    "from scipy import stats \n",
    "import matplotlib.pyplot as plt \n",
    "from numba import jit"
   ]
  },
  {
   "cell_type": "code",
   "execution_count": 24,
   "metadata": {},
   "outputs": [
    {
     "name": "stdout",
     "output_type": "stream",
     "text": [
      "(1000, 1)\n"
     ]
    },
    {
     "data": {
      "image/png": "[encoded data removed]",
      "text/plain": [
       "<Figure size 432x288 with 1 Axes>"
      ]
     },
     "metadata": {
      "needs_background": "light"
     },
     "output_type": "display_data"
    }
   ],
   "source": [
    "# grid sample \n",
    "\n",
    "N = 1000\n",
    "dx = 0.001\n",
    "\n",
    "\n",
    "x = np.linspace(-N/2*dx, (N/2-1)*dx, N, endpoint=False)\n",
    "x = np.reshape(x, (N, 1))\n",
    "print(np.shape(x))\n",
    "\n",
    "seed = 1\n",
    "np.random.seed(seed)\n",
    "b1,b2,b3 = np.random.uniform(0,2*pi,3)\n",
    "# y = np.exp(-x**2)\n",
    "# y = np.sin(2*pi*x) + 2*np.sin(10*2*pi*x) + 3*np.sin(20*2*pi*x) + 4*np.sin(30*2*pi*x)\n",
    "y = np.sin(x) + np.sin(10*x+b1) + np.sin(20*x+b2) + np.sin(30*x+b3)\n",
    "y = np.reshape(y, (N, 1))\n",
    "\n",
    "plt.plot(x, y)\n",
    "plt.show()"
   ]
  },
  {
   "cell_type": "code",
   "execution_count": 40,
   "metadata": {},
   "outputs": [],
   "source": [
    "# define the function includes w0\n",
    "\n",
    "d = 1\n",
    "px = stats.norm.pdf(x, loc=0, scale=1) # write the  function \n",
    "px = np.reshape(px, (N,1))\n",
    "fp = np.sqrt(px) * (y - np.mean(y))\n",
    "# print(fp)\n",
    "\n",
    "# @jit(nopython=True)\n",
    "def f_approx(w0):\n",
    "    f = 0\n",
    "    for i in range(N-1):\n",
    "        for j in range(N-1): \n",
    "            sinc = 1\n",
    "            if d == 1: \n",
    "                K = [1]\n",
    "            else: \n",
    "                K = range(1,d)\n",
    "            for k in K: \n",
    "                t = w0*(x[j]**k - x[i]**k)\n",
    "                if t == 0: \n",
    "                    sinc = sinc * 1\n",
    "                else: \n",
    "                    sinc = sinc * np.sin(t) / t\n",
    "            f = f + fp[i]*fp[j]/(px[i]*px[j]) * (w0/pi)**d * sinc \n",
    "    f = f * 2 / (N**2)\n",
    "    return f      \n",
    "\n",
    "# print(f_approx(10))"
   ]
  },
  {
   "cell_type": "code",
   "execution_count": 42,
   "metadata": {},
   "outputs": [
    {
     "name": "stdout",
     "output_type": "stream",
     "text": [
      "[[ 0 -1 -2 -3]\n",
      " [ 1  0 -1 -2]\n",
      " [ 2  1  0 -1]\n",
      " [ 3  2  1  0]]\n",
      "[[0 1 4 9]\n",
      " [1 0 1 4]\n",
      " [4 1 0 1]\n",
      " [9 4 1 0]]\n"
     ]
    }
   ],
   "source": [
    "aa = [1,2,3,4]\n",
    "bb = np.tile(aa, (4,1))\n",
    "cc = bb.transpose()\n",
    "sinc = cc - bb\n",
    "print(sinc)\n",
    "\n",
    "print(sinc * sinc)"
   ]
  },
  {
   "cell_type": "code",
   "execution_count": 41,
   "metadata": {},
   "outputs": [
    {
     "ename": "KeyboardInterrupt",
     "evalue": "",
     "output_type": "error",
     "traceback": [
      "\u001b[1;31m---------------------------------------------------------------------------\u001b[0m",
      "\u001b[1;31mKeyboardInterrupt\u001b[0m                         Traceback (most recent call last)",
      "\u001b[1;32m<ipython-input-41-dbcf476382b4>\u001b[0m in \u001b[0;36m<module>\u001b[1;34m\u001b[0m\n\u001b[0;32m      6\u001b[0m     \u001b[0mi\u001b[0m \u001b[1;33m=\u001b[0m \u001b[0mw\u001b[0m \u001b[1;33m+\u001b[0m \u001b[0mN\u001b[0m\u001b[1;33m\u001b[0m\u001b[1;33m\u001b[0m\u001b[0m\n\u001b[0;32m      7\u001b[0m     \u001b[0mi\u001b[0m \u001b[1;33m=\u001b[0m \u001b[0mint\u001b[0m\u001b[1;33m(\u001b[0m\u001b[0mi\u001b[0m\u001b[1;33m)\u001b[0m\u001b[1;33m\u001b[0m\u001b[1;33m\u001b[0m\u001b[0m\n\u001b[1;32m----> 8\u001b[1;33m     \u001b[0mf_w\u001b[0m\u001b[1;33m[\u001b[0m\u001b[0mi\u001b[0m\u001b[1;33m]\u001b[0m \u001b[1;33m=\u001b[0m \u001b[0mf_approx\u001b[0m\u001b[1;33m(\u001b[0m\u001b[0mw\u001b[0m\u001b[1;33m)\u001b[0m\u001b[1;33m\u001b[0m\u001b[1;33m\u001b[0m\u001b[0m\n\u001b[0m\u001b[0;32m      9\u001b[0m \u001b[1;31m# print(f_w)\u001b[0m\u001b[1;33m\u001b[0m\u001b[1;33m\u001b[0m\u001b[1;33m\u001b[0m\u001b[0m\n\u001b[0;32m     10\u001b[0m \u001b[1;33m\u001b[0m\u001b[0m\n",
      "\u001b[1;32m<ipython-input-40-8b4a98e8da7c>\u001b[0m in \u001b[0;36mf_approx\u001b[1;34m(w0)\u001b[0m\n\u001b[0;32m     23\u001b[0m                 \u001b[1;32melse\u001b[0m\u001b[1;33m:\u001b[0m\u001b[1;33m\u001b[0m\u001b[1;33m\u001b[0m\u001b[0m\n\u001b[0;32m     24\u001b[0m                     \u001b[0msinc\u001b[0m \u001b[1;33m=\u001b[0m \u001b[0msinc\u001b[0m \u001b[1;33m*\u001b[0m \u001b[0mnp\u001b[0m\u001b[1;33m.\u001b[0m\u001b[0msin\u001b[0m\u001b[1;33m(\u001b[0m\u001b[0mt\u001b[0m\u001b[1;33m)\u001b[0m \u001b[1;33m/\u001b[0m \u001b[0mt\u001b[0m\u001b[1;33m\u001b[0m\u001b[1;33m\u001b[0m\u001b[0m\n\u001b[1;32m---> 25\u001b[1;33m             \u001b[0mf\u001b[0m \u001b[1;33m=\u001b[0m \u001b[0mf\u001b[0m \u001b[1;33m+\u001b[0m \u001b[0mfp\u001b[0m\u001b[1;33m[\u001b[0m\u001b[0mi\u001b[0m\u001b[1;33m]\u001b[0m\u001b[1;33m*\u001b[0m\u001b[0mfp\u001b[0m\u001b[1;33m[\u001b[0m\u001b[0mj\u001b[0m\u001b[1;33m]\u001b[0m\u001b[1;33m/\u001b[0m\u001b[1;33m(\u001b[0m\u001b[0mpx\u001b[0m\u001b[1;33m[\u001b[0m\u001b[0mi\u001b[0m\u001b[1;33m]\u001b[0m\u001b[1;33m*\u001b[0m\u001b[0mpx\u001b[0m\u001b[1;33m[\u001b[0m\u001b[0mj\u001b[0m\u001b[1;33m]\u001b[0m\u001b[1;33m)\u001b[0m \u001b[1;33m*\u001b[0m \u001b[1;33m(\u001b[0m\u001b[0mw0\u001b[0m\u001b[1;33m/\u001b[0m\u001b[0mpi\u001b[0m\u001b[1;33m)\u001b[0m\u001b[1;33m**\u001b[0m\u001b[0md\u001b[0m \u001b[1;33m*\u001b[0m \u001b[0msinc\u001b[0m\u001b[1;33m\u001b[0m\u001b[1;33m\u001b[0m\u001b[0m\n\u001b[0m\u001b[0;32m     26\u001b[0m     \u001b[0mf\u001b[0m \u001b[1;33m=\u001b[0m \u001b[0mf\u001b[0m \u001b[1;33m*\u001b[0m \u001b[1;36m2\u001b[0m \u001b[1;33m/\u001b[0m \u001b[1;33m(\u001b[0m\u001b[0mN\u001b[0m\u001b[1;33m**\u001b[0m\u001b[1;36m2\u001b[0m\u001b[1;33m)\u001b[0m\u001b[1;33m\u001b[0m\u001b[1;33m\u001b[0m\u001b[0m\n\u001b[0;32m     27\u001b[0m     \u001b[1;32mreturn\u001b[0m \u001b[0mf\u001b[0m\u001b[1;33m\u001b[0m\u001b[1;33m\u001b[0m\u001b[0m\n",
      "\u001b[1;31mKeyboardInterrupt\u001b[0m: "
     ]
    }
   ],
   "source": [
    "W = np.linspace(-N, N, 2*N+1)\n",
    "# print(W)\n",
    "f_w = np.zeros(2*N+1)\n",
    "\n",
    "for w in W: \n",
    "    i = w + N\n",
    "    i = int(i)\n",
    "    f_w[i] = f_approx(w)\n",
    "# print(f_w)\n",
    "\n",
    "y_var = np.var(y)\n",
    "# print(y_var)\n",
    "\n",
    "plt.plot(W, f_w)\n",
    "plt.axhline(y = y_var)\n",
    "plt.show()"
   ]
  },
  {
   "cell_type": "code",
   "execution_count": null,
   "metadata": {},
   "outputs": [
    {
     "name": "stdout",
     "output_type": "stream",
     "text": [
      "0.060070993721154764\n",
      "2\n"
     ]
    }
   ],
   "source": [
    "# compute the cut-off w0\n",
    "\n",
    "# w0 = sy.symbols('w0')\n",
    "# print(sy.solve(f_approx(w0)-np.var(y),w0))\n",
    "\n",
    "f_abs = np.abs(f_w-y_var)\n",
    "\n",
    "f_min = min(f_abs)\n",
    "print(f_min)\n",
    "\n",
    "w0 = np.argmin(f_abs) - N\n",
    "print(w0)"
   ]
  },
  {
   "cell_type": "code",
   "execution_count": null,
   "metadata": {},
   "outputs": [],
   "source": [
    "# training the function with NN  \n",
    "\n",
    "import tensorflow as tf \n",
    "from tensorflow import keras "
   ]
  },
  {
   "cell_type": "code",
   "execution_count": null,
   "metadata": {},
   "outputs": [],
   "source": [
    "# define the keras model \n",
    "K = 64\n",
    "input_layer = keras.Input(shape = (1, ))\n",
    "hidden_layer_1 = keras.layers.Dense(units = K, \n",
    "                                    activation = 'sigmoid')\n",
    "hidden_layer_2 = keras.layers.Dense(units = K, \n",
    "                                    activation = 'sigmoid')\n",
    "hidden_layer_3 = keras.layers.Dense(units = K, \n",
    "                                    activation = 'sigmoid')\n",
    "hidden_layer_4 = keras.layers.Dense(units = K, \n",
    "                                    activation = 'sigmoid')\n",
    "hidden_layer_5 = keras.layers.Dense(units = K, \n",
    "                                    activation = 'sigmoid')\n",
    "output_layer = keras.layers.Dense(units = 1, \n",
    "                                    use_bias = False)\n",
    "model = keras.Sequential([input_layer, hidden_layer_1,\n",
    "                          hidden_layer_2, hidden_layer_3, \n",
    "                          hidden_layer_4, hidden_layer_5, \n",
    "                          output_layer])\n",
    "\n",
    "# compling the model \n",
    "adam = keras.optimizers.Adam(learning_rate=0.0005)\n",
    "model.compile(optimizer = 'adam', loss = 'mse')"
   ]
  },
  {
   "cell_type": "code",
   "execution_count": null,
   "metadata": {},
   "outputs": [],
   "source": [
    "def NN_epoch(n_epoch):\n",
    "    # fitting the data \n",
    "    tf.random.set_seed(seed)\n",
    "    beta = model.fit(x0, y0, epochs=n_epoch, batch_size=32)\n",
    "\n",
    "    # predicting the data\n",
    "    predict_1 = model.predict(x0)\n",
    "\n",
    "    # compute r\n",
    "    predict_1 = predict_1.reshape(N0)\n",
    "    r = y0 - predict_1\n",
    "\n",
    "    plt.plot(x0, y0, color='black')\n",
    "    plt.plot(x0, predict_1, color='g')\n",
    "    plt.plot(x0, r, color='r')\n",
    "    plt.show()\n",
    "\n",
    "\n",
    "    # calculate r_p\n",
    "    px = 1/2/pi\n",
    "    rp = np.sqrt(px) * (r - np.mean(r))\n",
    "\n",
    "    # compute sum_low\n",
    "\n",
    "    e_low = 0\n",
    "    for i in range(N0-1):\n",
    "        for j in range(N0-1): \n",
    "            sinc = 1\n",
    "            if d == 1: \n",
    "                K = [1]\n",
    "            else: \n",
    "                K = range(1,d)\n",
    "            for k in K: \n",
    "                t = w0*(x0[j]**k - x0[i]**k)\n",
    "                if t == 0: \n",
    "                    sinc = sinc * 1\n",
    "                else: \n",
    "                    sinc = sinc * np.sin(t) / t\n",
    "            e_low = e_low + rp[i]*rp[j]/px/px * (w0 / pi)**d * sinc \n",
    "    e_low = e_low / (N0**2) / y_var\n",
    "    print(e_low)\n",
    "\n",
    "    # compute SB\n",
    "    var_r = np.var(r)\n",
    "    var_f = np.var(y)\n",
    "    FVU = var_r/var_f \n",
    "    # print(FVU)\n",
    "    e_high = FVU - e_low\n",
    "    SB = (e_high - e_low) / (e_high + e_low) \n",
    "    # print(SB)\n",
    "    \n",
    "    return FVU, SB"
   ]
  },
  {
   "cell_type": "code",
   "execution_count": null,
   "metadata": {},
   "outputs": [
    {
     "name": "stdout",
     "output_type": "stream",
     "text": [
      "Epoch 1/20\n",
      "32/32 [==============================] - 0s 783us/step - loss: 1.3727\n",
      "Epoch 2/20\n",
      "32/32 [==============================] - 0s 788us/step - loss: 1.3429\n",
      "Epoch 3/20\n",
      "32/32 [==============================] - 0s 950us/step - loss: 1.3492\n",
      "Epoch 4/20\n",
      "32/32 [==============================] - 0s 974us/step - loss: 1.3476\n",
      "Epoch 5/20\n",
      "32/32 [==============================] - 0s 976us/step - loss: 1.3594\n",
      "Epoch 6/20\n",
      "32/32 [==============================] - 0s 928us/step - loss: 1.3622\n",
      "Epoch 7/20\n",
      "32/32 [==============================] - 0s 807us/step - loss: 1.3504\n",
      "Epoch 8/20\n",
      "32/32 [==============================] - 0s 781us/step - loss: 1.3450\n",
      "Epoch 9/20\n",
      "32/32 [==============================] - 0s 710us/step - loss: 1.3494\n",
      "Epoch 10/20\n",
      "32/32 [==============================] - 0s 764us/step - loss: 1.3605\n",
      "Epoch 11/20\n",
      "32/32 [==============================] - 0s 744us/step - loss: 1.3621\n",
      "Epoch 12/20\n",
      "32/32 [==============================] - 0s 767us/step - loss: 1.3453\n",
      "Epoch 13/20\n",
      "32/32 [==============================] - 0s 787us/step - loss: 1.3479\n",
      "Epoch 14/20\n",
      "32/32 [==============================] - 0s 701us/step - loss: 1.3478\n",
      "Epoch 15/20\n",
      "32/32 [==============================] - 0s 712us/step - loss: 1.3451\n",
      "Epoch 16/20\n",
      "32/32 [==============================] - 0s 745us/step - loss: 1.3474\n",
      "Epoch 17/20\n",
      "32/32 [==============================] - 0s 781us/step - loss: 1.3557\n",
      "Epoch 18/20\n",
      "32/32 [==============================] - 0s 683us/step - loss: 1.3610\n",
      "Epoch 19/20\n",
      "32/32 [==============================] - 0s 695us/step - loss: 1.3524\n",
      "Epoch 20/20\n",
      "32/32 [==============================] - 0s 846us/step - loss: 1.3587\n"
     ]
    },
    {
     "data": {
      "image/png": "[encoded data removed]",
      "text/plain": [
       "<Figure size 432x288 with 1 Axes>"
      ]
     },
     "metadata": {
      "needs_background": "light"
     },
     "output_type": "display_data"
    },
    {
     "name": "stdout",
     "output_type": "stream",
     "text": [
      "0.008502033459466629\n",
      "0.6661781819807822\n",
      "0.9744751969084694\n"
     ]
    }
   ],
   "source": [
    "NN_epoch(20)"
   ]
  }
 ],
 "metadata": {
  "interpreter": {
   "hash": "88279d2366fe020547cde40dd65aa0e3aa662a6ec1f3ca12d88834876c85e1a6"
  },
  "kernelspec": {
   "display_name": "Python 3.8.8 ('base')",
   "language": "python",
   "name": "python3"
  },
  "language_info": {
   "codemirror_mode": {
    "name": "ipython",
    "version": 3
   },
   "file_extension": ".py",
   "mimetype": "text/x-python",
   "name": "python",
   "nbconvert_exporter": "python",
   "pygments_lexer": "ipython3",
   "version": "3.8.8"
  },
  "orig_nbformat": 4
 },
 "nbformat": 4,
 "nbformat_minor": 2
}
