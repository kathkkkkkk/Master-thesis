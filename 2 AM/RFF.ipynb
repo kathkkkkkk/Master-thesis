{
 "cells": [
  {
   "cell_type": "code",
   "execution_count": 34,
   "metadata": {},
   "outputs": [],
   "source": [
    "import numpy as np \n",
    "import matplotlib.pyplot as plt \n",
    "from math import pi \n",
    "from scipy import special"
   ]
  },
  {
   "cell_type": "code",
   "execution_count": 35,
   "metadata": {},
   "outputs": [],
   "source": [
    "def f(x):\n",
    "    a = 1 / 1000\n",
    "    si, ci = special.sici(x / a)\n",
    "    return si * np.exp(-x ** 2 / 2)"
   ]
  },
  {
   "cell_type": "code",
   "execution_count": 36,
   "metadata": {},
   "outputs": [],
   "source": [
    "# generate data \n",
    "d = 2\n",
    "N = 10**4\n",
    "\n",
    "x_train = np.random.normal(0, 1, N*d).reshape((N, d))\n",
    "y_train = f(x_train)\n",
    "\n",
    "x_test = np.random.normal(0, 1, N*d).reshape((N, d))\n",
    "y_test = f(x_test)"
   ]
  },
  {
   "cell_type": "code",
   "execution_count": 37,
   "metadata": {},
   "outputs": [],
   "source": [
    "# normalize the data \n",
    "\n",
    "def normalize(x, y): \n",
    "    x_norm = (x - np.mean(x))/np.std(x, ddof=1)\n",
    "    y_norm = (y - np.mean(y))/np.std(y, ddof=1)\n",
    "    return x_norm, y_norm \n",
    "\n",
    "x_train, y_train = normalize(x_train, y_train)\n",
    "x_test, y_test = normalize(x_test, y_test)"
   ]
  },
  {
   "cell_type": "code",
   "execution_count": 38,
   "metadata": {},
   "outputs": [],
   "source": [
    "# minimization function \n",
    "def min_fun(x, y, w, lambda_): \n",
    "    I = np.identity(K)\n",
    "    b = np.zeros(K*d).reshape((K, d))\n",
    "    one = np.zeros(N*d).reshape((N, d))\n",
    "    S = np.cos(x.dot(w.T) + one.dot(b.T))\n",
    "    beta = np.linalg.inv(np.dot(S.T, S) + lambda_ * N * I).dot(S.T).dot(y)\n",
    "    return beta, S"
   ]
  },
  {
   "cell_type": "code",
   "execution_count": 39,
   "metadata": {},
   "outputs": [],
   "source": [
    "# Metropolis algorithm 1\n",
    "\n",
    "def algorithm_1(x, y, M, K, d, lambda_, delta):\n",
    "\n",
    "    w = np.zeros(K*d).reshape((K, d))\n",
    "    \n",
    "    beta, S = min_fun(x, y, w, lambda_)\n",
    "    for i in range(M): \n",
    "        r_n = np.random.normal(0, 1, K*d).reshape((K, d))\n",
    "        w_temp = w + delta * r_n\n",
    "        beta_temp, S_temp = min_fun(x, y, w_temp, lambda_)\n",
    "        for k in range(K): \n",
    "            r_u = np.random.uniform(0, 1)\n",
    "            if np.linalg.norm(beta_temp[k], ord=1)/np.linalg.norm(beta[k], ord=1) > r_u: \n",
    "                w[k] = w_temp[k]\n",
    "                beta[k] = beta_temp[k]\n",
    "        beta, S = min_fun(x, y, w, lambda_)\n",
    "        \n",
    "    f = np.sum(S, axis=1)\n",
    "        \n",
    "    return beta, f"
   ]
  },
  {
   "cell_type": "code",
   "execution_count": 43,
   "metadata": {},
   "outputs": [
    {
     "data": {
      "text/plain": [
       "(10000,)"
      ]
     },
     "execution_count": 43,
     "metadata": {},
     "output_type": "execute_result"
    }
   ],
   "source": [
    "M = 10\n",
    "K = 100 \n",
    "lambda_ = 1 \n",
    "delta = 2.4**2/d \n",
    "\n",
    "beta, f = algorithm_1(x_train, y_train,  M, K, d, lambda_, delta)"
   ]
  },
  {
   "cell_type": "code",
   "execution_count": 48,
   "metadata": {},
   "outputs": [],
   "source": [
    "# Metropolis algorithm 2\n",
    "\n",
    "def algorithm_2(x, y, M, K, d, lambda_, delta):\n",
    "    \n",
    "    w = np.zeros(K*d).reshape((K, d))\n",
    "    S_w = np.zeros(d)\n",
    "    S_c = np.zeros(d*d).reshape((d, d))\n",
    "    C_w = np.zeros(d*d).reshape((d, d))\n",
    "    C = np.ones(d*d).reshape((d, d))\n",
    "    normal_mean = np.zeros(d)\n",
    "    t0 = 10\n",
    "    beta, S = min_fun(x, y, w, lambda_)\n",
    "    \n",
    "    for i in range(1, M+1): \n",
    "        r_n = np.random.multivariate_normal(normal_mean, C, K)\n",
    "        w_temp = w + delta * r_n\n",
    "        beta_temp, S_temp = min_fun(x_train, y_train, w_temp, lambda_)\n",
    "        for k in range(K): \n",
    "            r_u = np.random.uniform(0, 1)\n",
    "            if np.linalg.norm(beta_temp[k], ord=1)/np.linalg.norm(beta[k], ord=1) > r_u: \n",
    "                w[k] = w_temp[k]\n",
    "                beta[k] = beta_temp[k]\n",
    "            S_w = S_w + w[k]\n",
    "            S_c = S_c + np.dot(w[k].T, w[k])\n",
    "        w_temp_mean = S_w / (i*K)\n",
    "        C_temp = S_c/(i*K) - np.dot(w_temp_mean.T, w_temp_mean)\n",
    "        if i>t0: \n",
    "            C = C_temp\n",
    "        beta, S = min_fun(x_train, y_train, w, lambda_)\n",
    "        \n",
    "    f = np.sum(S, axis=1)\n",
    "        \n",
    "    return beta, f"
   ]
  },
  {
   "cell_type": "code",
   "execution_count": 50,
   "metadata": {},
   "outputs": [
    {
     "data": {
      "text/plain": [
       "(10000,)"
      ]
     },
     "execution_count": 50,
     "metadata": {},
     "output_type": "execute_result"
    }
   ],
   "source": [
    "M = 10\n",
    "K = 100 \n",
    "lambda_ = 1 \n",
    "delta = 2.4**2/d \n",
    "\n",
    "beta, f = algorithm_2(x_train, y_train,  M, K, d, lambda_, delta)"
   ]
  }
 ],
 "metadata": {
  "interpreter": {
   "hash": "88279d2366fe020547cde40dd65aa0e3aa662a6ec1f3ca12d88834876c85e1a6"
  },
  "kernelspec": {
   "display_name": "Python 3.8.8 ('base')",
   "language": "python",
   "name": "python3"
  },
  "language_info": {
   "codemirror_mode": {
    "name": "ipython",
    "version": 3
   },
   "file_extension": ".py",
   "mimetype": "text/x-python",
   "name": "python",
   "nbconvert_exporter": "python",
   "pygments_lexer": "ipython3",
   "version": "3.8.8"
  },
  "orig_nbformat": 4
 },
 "nbformat": 4,
 "nbformat_minor": 2
}
