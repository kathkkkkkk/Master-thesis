{
 "cells": [
  {
   "cell_type": "code",
   "execution_count": 17,
   "metadata": {},
   "outputs": [],
   "source": [
    "import numpy as np \n",
    "import pandas as pd\n",
    "import matplotlib.pyplot as plt "
   ]
  },
  {
   "cell_type": "code",
   "execution_count": 18,
   "metadata": {},
   "outputs": [],
   "source": [
    "result = []"
   ]
  },
  {
   "cell_type": "code",
   "execution_count": 19,
   "metadata": {},
   "outputs": [],
   "source": [
    "data = np.load('am_1.npz')\n",
    "accuracy_train_list = data['accuracy_train_list']\n",
    "accuracy_valid_list = data['accuracy_valid_list']\n",
    "accuracy_test_list = data['accuracy_test_list']\n",
    "a = np.max(accuracy_train_list)*100\n",
    "b = np.max(accuracy_valid_list)*100\n",
    "c = np.max(accuracy_test_list)*100\n",
    "\n",
    "data = np.load('sgd_1.npz')\n",
    "accuracy_train_list = data['accuracy_train_list']\n",
    "accuracy_valid_list = data['accuracy_valid_list']\n",
    "accuracy_test_list = data['accuracy_test_list']\n",
    "e = np.max(accuracy_train_list)*100\n",
    "f = np.max(accuracy_valid_list)*100\n",
    "g = np.max(accuracy_test_list)*100\n",
    "\n",
    "result = np.append(result, np.array([b, c, f, g])).reshape((1, 4))\n",
    "#print(result)"
   ]
  },
  {
   "cell_type": "code",
   "execution_count": 20,
   "metadata": {},
   "outputs": [],
   "source": [
    "data = np.load('am_2.npz')\n",
    "accuracy_train_list = data['accuracy_train_list']\n",
    "accuracy_valid_list = data['accuracy_valid_list']\n",
    "accuracy_test_list = data['accuracy_test_list']\n",
    "a = np.max(accuracy_train_list)*100\n",
    "b = np.max(accuracy_valid_list)*100\n",
    "c = np.max(accuracy_test_list)*100\n",
    "\n",
    "data = np.load('sgd_2.npz')\n",
    "accuracy_train_list = data['accuracy_train_list']\n",
    "accuracy_valid_list = data['accuracy_valid_list']\n",
    "accuracy_test_list = data['accuracy_test_list']\n",
    "e = np.max(accuracy_train_list)*100\n",
    "f = np.max(accuracy_valid_list)*100\n",
    "g = np.max(accuracy_test_list)*100\n",
    "\n",
    "result = np.append(result, np.array([b, c, f, g])).reshape((2, 4))\n",
    "#print(result)"
   ]
  },
  {
   "cell_type": "code",
   "execution_count": 21,
   "metadata": {},
   "outputs": [],
   "source": [
    "data = np.load('am_3.npz')\n",
    "accuracy_train_list = data['accuracy_train_list']\n",
    "accuracy_valid_list = data['accuracy_valid_list']\n",
    "accuracy_test_list = data['accuracy_test_list']\n",
    "a = np.max(accuracy_train_list)*100\n",
    "b = np.max(accuracy_valid_list)*100\n",
    "c = np.max(accuracy_test_list)*100\n",
    "\n",
    "data = np.load('sgd_3.npz')\n",
    "accuracy_train_list = data['accuracy_train_list']\n",
    "accuracy_valid_list = data['accuracy_valid_list']\n",
    "accuracy_test_list = data['accuracy_test_list']\n",
    "e = np.max(accuracy_train_list)*100\n",
    "f = np.max(accuracy_valid_list)*100\n",
    "g = np.max(accuracy_test_list)*100\n",
    "\n",
    "result = np.append(result, np.array([b, c, f, g])).reshape((3, 4))\n",
    "#print(result)"
   ]
  },
  {
   "cell_type": "code",
   "execution_count": 22,
   "metadata": {},
   "outputs": [],
   "source": [
    "data = np.load('am_4.npz')\n",
    "accuracy_train_list = data['accuracy_train_list']\n",
    "accuracy_valid_list = data['accuracy_valid_list']\n",
    "accuracy_test_list = data['accuracy_test_list']\n",
    "a = np.max(accuracy_train_list)*100\n",
    "b = np.max(accuracy_valid_list)*100\n",
    "c = np.max(accuracy_test_list)*100\n",
    "\n",
    "data = np.load('sgd_4.npz')\n",
    "accuracy_train_list = data['accuracy_train_list']\n",
    "accuracy_valid_list = data['accuracy_valid_list']\n",
    "accuracy_test_list = data['accuracy_test_list']\n",
    "e = np.max(accuracy_train_list)*100\n",
    "f = np.max(accuracy_valid_list)*100\n",
    "g = np.max(accuracy_test_list)*100\n",
    "\n",
    "result = np.append(result, np.array([b, c, f, g])).reshape((4, 4))\n",
    "#print(result)"
   ]
  },
  {
   "cell_type": "code",
   "execution_count": 23,
   "metadata": {},
   "outputs": [],
   "source": [
    "data = np.load('am_5.npz')\n",
    "accuracy_train_list = data['accuracy_train_list']\n",
    "accuracy_valid_list = data['accuracy_valid_list']\n",
    "accuracy_test_list = data['accuracy_test_list']\n",
    "a = np.max(accuracy_train_list)*100\n",
    "b = np.max(accuracy_valid_list)*100\n",
    "c = np.max(accuracy_test_list)*100\n",
    "\n",
    "data = np.load('sgd_5.npz')\n",
    "accuracy_train_list = data['accuracy_train_list']\n",
    "accuracy_valid_list = data['accuracy_valid_list']\n",
    "accuracy_test_list = data['accuracy_test_list']\n",
    "e = np.max(accuracy_train_list)*100\n",
    "f = np.max(accuracy_valid_list)*100\n",
    "g = np.max(accuracy_test_list)*100\n",
    "\n",
    "result = np.append(result, np.array([b, c, f, g])).reshape((5, 4))\n",
    "#print(result)"
   ]
  },
  {
   "cell_type": "code",
   "execution_count": 24,
   "metadata": {},
   "outputs": [
    {
     "name": "stdout",
     "output_type": "stream",
     "text": [
      "              AM_acc_valid  AM_acc_test  SGD_acc_valid  SGD_acc_test\n",
      "1_noise=0.01          96.4    96.129124      96.157143     96.114841\n",
      "2_noise=0.05          96.4    96.143408      96.157143     95.943437\n",
      "3_noise=0.1           96.4    95.957720      96.157143     95.586345\n",
      "4_noise=0.5           96.4    77.017569      96.157143     65.747750\n",
      "5_noise=1             96.4    37.937438      96.157143     23.082417\n"
     ]
    }
   ],
   "source": [
    "row_index = [str('1_noise=0.01'), str('2_noise=0.05'), str('3_noise=0.1'), \n",
    "             str('4_noise=0.5'), str('5_noise=1')]\n",
    "             \n",
    "col_index = [ str('AM_acc_valid'), str('AM_acc_test'),\n",
    "              str('SGD_acc_valid'), str('SGD_acc_test')]\n",
    "table = pd.DataFrame(result, columns=col_index, index=row_index)\n",
    "print(table)"
   ]
  }
 ],
 "metadata": {
  "kernelspec": {
   "display_name": "base",
   "language": "python",
   "name": "python3"
  },
  "language_info": {
   "codemirror_mode": {
    "name": "ipython",
    "version": 3
   },
   "file_extension": ".py",
   "mimetype": "text/x-python",
   "name": "python",
   "nbconvert_exporter": "python",
   "pygments_lexer": "ipython3",
   "version": "3.8.8"
  },
  "orig_nbformat": 4
 },
 "nbformat": 4,
 "nbformat_minor": 2
}
