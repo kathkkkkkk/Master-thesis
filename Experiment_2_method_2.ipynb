{
 "cells": [
  {
   "cell_type": "code",
   "execution_count": 315,
   "metadata": {},
   "outputs": [],
   "source": [
    "import numpy as np \n",
    "from math import pi\n",
    "import matplotlib.pyplot as plt \n",
    "from scipy import special"
   ]
  },
  {
   "cell_type": "code",
   "execution_count": 316,
   "metadata": {},
   "outputs": [],
   "source": [
    "def generate_data(N_train = 2 ** 12, N_test = 2 ** 14): \n",
    "    \n",
    "    def f(x):\n",
    "        a = 1 / 100\n",
    "        si, ci = special.sici(x / a)\n",
    "        return si * np.exp(-x ** 2 / 2)\n",
    "\n",
    "    x_train = np.random.randn(N_train, 1)\n",
    "    y_train = f(x_train)\n",
    "    \n",
    "    x_validation = np.random.randn(N_train, 1)\n",
    "    y_validation = f(x_validation)\n",
    "    \n",
    "    x_test = np.linspace(-25 * pi, 25 * pi, N_test).reshape(N_test, 1)\n",
    "    y_test = f(x_test)\n",
    "    \n",
    "    #plt.plot(x_test, y_test)\n",
    "    #plt.title('y_test')\n",
    "    #plt.show()\n",
    "    \n",
    "    return x_train, y_train, x_validation, y_validation, x_test, y_test "
   ]
  },
  {
   "cell_type": "code",
   "execution_count": 317,
   "metadata": {},
   "outputs": [],
   "source": [
    "def func_min(x, y, d, w0, px): \n",
    "    \n",
    "    N = len(x)\n",
    "    \n",
    "    dx = x[1] - x[0]\n",
    "    # E_y = np.sum(px * y * dx)\n",
    "    # fp = np.sqrt(px) * (y - E_y)\n",
    "    fp = np.sqrt(px) * (y - np.mean(y)) / px\n",
    "    #print(fp)\n",
    "    \n",
    "    if d==1: \n",
    "        temp = np.transpose(x)\n",
    "        temp = np.tile(temp, (N, 1))\n",
    "        diff = temp - np.transpose(temp)\n",
    "        snc = np.sinc(w0 * diff / np.pi)\n",
    "    else: \n",
    "        snc = np.ones((N, N))\n",
    "        for i in np.arange(0,d): \n",
    "            temp = np.tile(x**i, (N, 1))\n",
    "            diff = temp - np.transpose(temp)\n",
    "            snc *= np.sinc(w0 * diff / np.pi)\n",
    "    #print(snc)\n",
    "    \n",
    "    f = 1 / N**2 * (w0/np.pi)**d * np.transpose(fp).dot(snc).dot(fp) \n",
    "    \n",
    "    return f"
   ]
  },
  {
   "cell_type": "code",
   "execution_count": 318,
   "metadata": {},
   "outputs": [],
   "source": [
    "def method_2_w0(x, y, guess1, guess2, px): \n",
    "    # define the function includes w0\n",
    "\n",
    "    d = 1\n",
    "    y2 = y.mean(axis=1).reshape(len(y), 1)\n",
    "    w0 = np.array([guess1, guess2]) \n",
    "    f = np.array([func_min(x, y, d, w0[0], px), func_min(x, y, d, w0[1], px)])\n",
    "    y_var = np.var(y)\n",
    "    f = f / y_var - 1/2\n",
    "\n",
    "    while np.abs(f[-1]) > 1e-4: \n",
    "        w0_temp = w0[-1] - f[-1] * (w0[-1] - w0[-2]) / (f[-1] - f[-2])\n",
    "        w0 = np.append(w0, w0_temp)\n",
    "        f = np.append(f, func_min(x, y, d, w0_temp, px)/ y_var - 1/2)\n",
    "        \n",
    "    w0 = w0[-1]\n",
    "\n",
    "    return w0 "
   ]
  },
  {
   "cell_type": "code",
   "execution_count": 319,
   "metadata": {},
   "outputs": [
    {
     "name": "stdout",
     "output_type": "stream",
     "text": [
      "2.2475514508969026\n"
     ]
    }
   ],
   "source": [
    "# implement experiment 2\n",
    "\n",
    "N_train = 2 ** 12\n",
    "N_test = 2 ** 14\n",
    "\n",
    "seed = 1\n",
    "np.random.seed(seed)\n",
    "x_train, y_train, x_validation, y_validation, x_test, y_test = generate_data(N_train, N_test)\n",
    "\n",
    "# Normalize the training data\n",
    "x_mean = x_train.mean(axis=0)\n",
    "x_std = x_train.std(axis=0)\n",
    "y_mean = y_train.mean(axis=0)\n",
    "y_std = y_train.std(axis=0)\n",
    "x_train = (x_train - x_mean) / x_std\n",
    "y_train = (y_train - y_mean) / y_std\n",
    "\n",
    "# px = stats.norm.pdf(x_test, loc=0, scale=1) # write the  function \n",
    "px = 1 / x_std / np.sqrt(2 * np.pi) * np.exp(-1 / 2 * (((x_test) / x_std) ** 2))\n",
    "px_train = 1 / x_std / np.sqrt(2 * np.pi) * np.exp(-1 / 2 * ((x_train / x_std) ** 2))\n",
    "px_validation = 1 / x_std / np.sqrt(2 * np.pi) * np.exp(-1 / 2 * ((x_validation / x_std) ** 2))\n",
    "\n",
    "d = 1\n",
    "\n",
    "w0 = method_2_w0(x_train, y_train, 1, 2,  px_train)\n",
    "print(w0)"
   ]
  },
  {
   "cell_type": "code",
   "execution_count": 320,
   "metadata": {},
   "outputs": [],
   "source": [
    "def method_2(x, y, pred, w0, px):\n",
    "    \n",
    "    N = len(x)\n",
    "    d = 1\n",
    "    r = y - pred\n",
    "    y_var = np.var(y)\n",
    "\n",
    "    # calculate r_p\n",
    "    rp = np.sqrt(px) * (r - np.mean(r))\n",
    "\n",
    "    # compute sum_low\n",
    "    r_sum = func_min(x, r, d, w0, px)\n",
    "    \n",
    "    e_low = r_sum / y_var \n",
    "    \n",
    "    var_r = np.var(r)\n",
    "    var_f = np.var(y)\n",
    "    FVU = var_r/var_f\n",
    "    e_high = FVU - e_low\n",
    "    \n",
    "    SB = (e_high - e_low) / (e_high + e_low) \n",
    "    # print(SB)\n",
    "    \n",
    "    return SB"
   ]
  },
  {
   "cell_type": "code",
   "execution_count": 321,
   "metadata": {},
   "outputs": [],
   "source": [
    "def FVU_compute(y, pred): \n",
    "    r = y - pred \n",
    "    var_r = np.var(r)\n",
    "    var_f = np.var(y)\n",
    "    FVU = var_r/var_f \n",
    "    return FVU "
   ]
  },
  {
   "cell_type": "code",
   "execution_count": 322,
   "metadata": {},
   "outputs": [],
   "source": [
    "# training the function with NN  \n",
    "\n",
    "import tensorflow as tf \n",
    "from tensorflow import keras "
   ]
  },
  {
   "cell_type": "code",
   "execution_count": 323,
   "metadata": {},
   "outputs": [],
   "source": [
    "# define the keras model \n",
    "K = 64\n",
    "input_layer = keras.Input(shape = (1, ))\n",
    "hidden_layer_1 = keras.layers.Dense(units = K, \n",
    "                                    activation = 'relu', \n",
    "                                    kernel_initializer=tf.keras.initializers.he_normal, \n",
    "                                    bias_initializer=tf.keras.initializers.Zeros())\n",
    "hidden_layer_2 = keras.layers.Dense(units = K, \n",
    "                                    activation = 'relu', \n",
    "                                    kernel_initializer=tf.keras.initializers.he_normal, \n",
    "                                    bias_initializer=tf.keras.initializers.Zeros())\n",
    "hidden_layer_3 = keras.layers.Dense(units = K, \n",
    "                                    activation = 'relu', \n",
    "                                    kernel_initializer=tf.keras.initializers.he_normal, \n",
    "                                    bias_initializer=tf.keras.initializers.Zeros())\n",
    "hidden_layer_4 = keras.layers.Dense(units = K, \n",
    "                                    activation = 'relu', \n",
    "                                    kernel_initializer=tf.keras.initializers.he_normal, \n",
    "                                    bias_initializer=tf.keras.initializers.Zeros())\n",
    "hidden_layer_5 = keras.layers.Dense(units = K, \n",
    "                                    activation = 'relu', \n",
    "                                    kernel_initializer=tf.keras.initializers.he_normal, \n",
    "                                    bias_initializer=tf.keras.initializers.Zeros())\n",
    "output_layer = keras.layers.Dense(units = 1, \n",
    "                                    use_bias = False)\n",
    "model = keras.Sequential([input_layer, \n",
    "                          hidden_layer_1,\n",
    "                          hidden_layer_2, \n",
    "                          hidden_layer_3, \n",
    "                          hidden_layer_4, \n",
    "                          hidden_layer_5, \n",
    "                          output_layer])\n",
    "\n",
    "\n",
    "# compling the model \n",
    "adam = keras.optimizers.SGD(learning_rate=0.001)\n",
    "model.compile(optimizer = 'adam', loss = 'mse')"
   ]
  },
  {
   "cell_type": "code",
   "execution_count": 324,
   "metadata": {},
   "outputs": [
    {
     "name": "stdout",
     "output_type": "stream",
     "text": [
      "Epoch 1/10\n",
      "128/128 [==============================] - 0s 776us/step - loss: 0.3426\n",
      "Epoch 2/10\n",
      "128/128 [==============================] - 0s 772us/step - loss: 0.0039\n",
      "Epoch 3/10\n",
      "128/128 [==============================] - 0s 773us/step - loss: 0.0020\n",
      "Epoch 4/10\n",
      "128/128 [==============================] - 0s 781us/step - loss: 0.0021\n",
      "Epoch 5/10\n",
      "128/128 [==============================] - 0s 801us/step - loss: 0.0019\n",
      "Epoch 6/10\n",
      "128/128 [==============================] - 0s 798us/step - loss: 0.0015\n",
      "Epoch 7/10\n",
      "128/128 [==============================] - 0s 781us/step - loss: 0.0029\n",
      "Epoch 8/10\n",
      "128/128 [==============================] - 0s 792us/step - loss: 0.0045\n",
      "Epoch 9/10\n",
      "128/128 [==============================] - 0s 780us/step - loss: 0.0014\n",
      "Epoch 10/10\n",
      "128/128 [==============================] - 0s 772us/step - loss: 0.0030\n",
      "[[0.45782625]]\n"
     ]
    },
    {
     "data": {
      "text/plain": [
       "0.4578262506910452"
      ]
     },
     "execution_count": 324,
     "metadata": {},
     "output_type": "execute_result"
    }
   ],
   "source": [
    "tf.random.set_seed(seed)\n",
    "beta = model.fit(x_train, y_train, epochs=10, batch_size=32)\n",
    "\n",
    "x_norm = (x_validation - x_mean)/x_std\n",
    "pred = model.predict(x_norm)\n",
    "pred = pred * y_std + y_mean\n",
    "pred = np.reshape(pred, (N_train, 1))\n",
    "\n",
    "SB = method_2(x_validation, y_validation, pred, w0, px_validation)\n",
    "print(SB)\n",
    "SB[0, 0]"
   ]
  },
  {
   "cell_type": "code",
   "execution_count": 325,
   "metadata": {},
   "outputs": [],
   "source": [
    "class Compute_SB_Callback(keras.callbacks.Callback):\n",
    "    def on_epoch_end(self, epoch, logs):\n",
    "        \n",
    "\n",
    "        # predicting the data\n",
    "        x_norm = (x_validation - x_mean)/x_std\n",
    "        pred = model.predict(x_norm)\n",
    "        pred = pred * y_std + y_mean\n",
    "        pred = np.reshape(pred, (N_train, 1))\n",
    "\n",
    "        FVU = FVU_compute(y_train, pred)\n",
    "        SB = method_2(x_validation, y_validation, pred, w0, px_validation)\n",
    "        print(SB)\n",
    "        \n",
    "        i = int(epoch - 1)\n",
    "        FVU_list[i] = FVU\n",
    "        SB_list[i] = SB[0,0]\n",
    "        \n",
    "        #print(SB)"
   ]
  },
  {
   "cell_type": "code",
   "execution_count": 326,
   "metadata": {},
   "outputs": [
    {
     "name": "stdout",
     "output_type": "stream",
     "text": [
      "Epoch 1/10\n",
      "  1/128 [..............................] - ETA: 6s - loss: 5.0405e-04WARNING:tensorflow:Callback method `on_train_batch_end` is slow compared to the batch time (batch time: 0.0004s vs `on_train_batch_end` time: 0.0004s). Check your callbacks.\n",
      " 68/128 [==============>...............] - ETA: 0s - loss: 9.9579e-04[[0.07672311]]\n",
      "128/128 [==============================] - 1s 6ms/step - loss: 0.0010\n",
      "Epoch 2/10\n",
      " 65/128 [==============>...............] - ETA: 0s - loss: 9.6801e-04[[0.09693939]]\n",
      "128/128 [==============================] - 1s 6ms/step - loss: 9.7699e-04\n",
      "Epoch 3/10\n",
      " 67/128 [==============>...............] - ETA: 0s - loss: 0.0020[[0.39546241]]\n",
      "128/128 [==============================] - 1s 6ms/step - loss: 0.0014\n",
      "Epoch 4/10\n",
      "127/128 [============================>.] - ETA: 0s - loss: 6.9246e-04[[0.34293653]]\n",
      "128/128 [==============================] - 1s 6ms/step - loss: 6.9094e-04\n",
      "Epoch 5/10\n",
      " 68/128 [==============>...............] - ETA: 0s - loss: 0.0018    [[-0.58115156]]\n",
      "128/128 [==============================] - 1s 6ms/step - loss: 0.0020\n",
      "Epoch 6/10\n",
      " 67/128 [==============>...............] - ETA: 0s - loss: 0.0038[[0.1013781]]\n",
      "128/128 [==============================] - 1s 7ms/step - loss: 0.0035\n",
      "Epoch 7/10\n",
      " 63/128 [=============>................] - ETA: 0s - loss: 0.0019[[-0.00175855]]\n",
      "128/128 [==============================] - 1s 7ms/step - loss: 0.0018\n",
      "Epoch 8/10\n",
      "116/128 [==========================>...] - ETA: 0s - loss: 6.0376e-04[[-0.06340253]]\n",
      "128/128 [==============================] - 1s 8ms/step - loss: 6.2139e-04\n",
      "Epoch 9/10\n",
      "126/128 [============================>.] - ETA: 0s - loss: 7.1978e-04[[0.6067967]]\n",
      "128/128 [==============================] - 1s 6ms/step - loss: 7.2218e-04\n",
      "Epoch 10/10\n",
      " 75/128 [================>.............] - ETA: 0s - loss: 7.0671e-04[[0.92539866]]\n",
      "128/128 [==============================] - 1s 6ms/step - loss: 6.4227e-04\n"
     ]
    }
   ],
   "source": [
    "N_epoch = 10\n",
    "FVU_list = np.zeros(N_epoch)\n",
    "SB_list = np.zeros(N_epoch)\n",
    "\n",
    "SB_callback = Compute_SB_Callback()\n",
    "tf.random.set_seed(seed)\n",
    "beta = model.fit(x_train, y_train, epochs=N_epoch, batch_size=32, callbacks=[SB_callback])\n",
    "\n",
    "my_loss = beta.history['loss']"
   ]
  },
  {
   "cell_type": "code",
   "execution_count": 327,
   "metadata": {},
   "outputs": [
    {
     "data": {
      "image/png": "[encoded data removed]",
      "text/plain": [
       "<Figure size 432x288 with 1 Axes>"
      ]
     },
     "metadata": {
      "needs_background": "light"
     },
     "output_type": "display_data"
    },
    {
     "data": {
      "image/png": "[encoded data removed]",
      "text/plain": [
       "<Figure size 432x288 with 1 Axes>"
      ]
     },
     "metadata": {
      "needs_background": "light"
     },
     "output_type": "display_data"
    },
    {
     "data": {
      "image/png": "[encoded data removed]",
      "text/plain": [
       "<Figure size 432x288 with 1 Axes>"
      ]
     },
     "metadata": {
      "needs_background": "light"
     },
     "output_type": "display_data"
    }
   ],
   "source": [
    "epoch_list = np.arange(1, N_epoch+1)\n",
    "\n",
    "plt.plot(epoch_list, FVU_list)\n",
    "#plt.ylim(0,1)\n",
    "plt.title('FVU')\n",
    "plt.show()\n",
    "\n",
    "plt.plot(epoch_list, SB_list)\n",
    "plt.title('Spetral Bias')\n",
    "plt.show()\n",
    "\n",
    "plt.plot(epoch_list, my_loss)\n",
    "plt.title('Error')\n",
    "#plt.ylim(0,0.05)\n",
    "plt.show()"
   ]
  }
 ],
 "metadata": {
  "interpreter": {
   "hash": "88279d2366fe020547cde40dd65aa0e3aa662a6ec1f3ca12d88834876c85e1a6"
  },
  "kernelspec": {
   "display_name": "Python 3.8.8 ('base')",
   "language": "python",
   "name": "python3"
  },
  "language_info": {
   "codemirror_mode": {
    "name": "ipython",
    "version": 3
   },
   "file_extension": ".py",
   "mimetype": "text/x-python",
   "name": "python",
   "nbconvert_exporter": "python",
   "pygments_lexer": "ipython3",
   "version": "3.8.8"
  },
  "orig_nbformat": 4
 },
 "nbformat": 4,
 "nbformat_minor": 2
}
