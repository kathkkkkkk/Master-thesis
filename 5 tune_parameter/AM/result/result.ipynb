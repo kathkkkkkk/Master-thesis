{
 "cells": [
  {
   "cell_type": "code",
   "execution_count": 7,
   "metadata": {},
   "outputs": [],
   "source": [
    "import numpy as np"
   ]
  },
  {
   "cell_type": "code",
   "execution_count": 26,
   "metadata": {},
   "outputs": [],
   "source": [
    "data = np.load('am_41.npz')"
   ]
  },
  {
   "cell_type": "code",
   "execution_count": 27,
   "metadata": {},
   "outputs": [
    {
     "data": {
      "text/plain": [
       "array([0.00261221, 0.00276174, 0.00217859, 0.00212256, 0.00207036,\n",
       "       0.00199526, 0.00228729, 0.00233654, 0.00242724, 0.00240462,\n",
       "       0.00256161, 0.00238841, 0.00217371, 0.00259561, 0.00234511,\n",
       "       0.00268082, 0.00212974, 0.0022189 , 0.00202837, 0.00220558,\n",
       "       0.00219092, 0.00231078, 0.00231193, 0.00216508, 0.00227447,\n",
       "       0.00209304, 0.00221902, 0.00236417, 0.0019502 , 0.00208   ,\n",
       "       0.00244017, 0.00241672, 0.00199273, 0.00202459, 0.00219186,\n",
       "       0.00270784, 0.00225773, 0.00224225, 0.00218923, 0.00204145,\n",
       "       0.00253141, 0.0021127 , 0.00227576, 0.00218812, 0.00228473,\n",
       "       0.0022459 , 0.00272835, 0.00227764, 0.00255532, 0.00216074,\n",
       "       0.00212439, 0.00244455, 0.00230679, 0.00248048, 0.00212152,\n",
       "       0.00224904, 0.00248373, 0.00226518, 0.0024081 , 0.00215522,\n",
       "       0.00232577, 0.00219233, 0.00247979, 0.00231222, 0.00208934,\n",
       "       0.0023865 , 0.00203198, 0.00221509, 0.00226506, 0.00294442,\n",
       "       0.00288518, 0.0021756 , 0.00208136, 0.00193328, 0.00206978,\n",
       "       0.00213858, 0.00203555, 0.0021297 , 0.00225189, 0.00212637,\n",
       "       0.00220176, 0.00244799, 0.00270207, 0.00228515, 0.00235613,\n",
       "       0.00218764, 0.00240563, 0.00230896, 0.00213826, 0.00231812,\n",
       "       0.00246014, 0.00213691, 0.0019793 , 0.00211409, 0.00209028,\n",
       "       0.00195768, 0.00180642, 0.00195123, 0.00204722])"
      ]
     },
     "execution_count": 27,
     "metadata": {},
     "output_type": "execute_result"
    }
   ],
   "source": [
    "data['error_train_list'][-100:-1]"
   ]
  },
  {
   "cell_type": "code",
   "execution_count": 28,
   "metadata": {},
   "outputs": [
    {
     "data": {
      "text/plain": [
       "array(0.00189499)"
      ]
     },
     "execution_count": 28,
     "metadata": {},
     "output_type": "execute_result"
    }
   ],
   "source": [
    "data['error_valid_min']"
   ]
  },
  {
   "cell_type": "code",
   "execution_count": 29,
   "metadata": {},
   "outputs": [
    {
     "data": {
      "text/plain": [
       "array(0.00204155)"
      ]
     },
     "execution_count": 29,
     "metadata": {},
     "output_type": "execute_result"
    }
   ],
   "source": [
    "data['error_test_end']"
   ]
  },
  {
   "cell_type": "code",
   "execution_count": 30,
   "metadata": {},
   "outputs": [
    {
     "data": {
      "text/plain": [
       "array([[ 13.77447357, -45.593938  ],\n",
       "       [ 17.6515727 ,  73.93227123],\n",
       "       [  1.83673545, -11.42984234],\n",
       "       ...,\n",
       "       [  5.29908198,  -2.46812199],\n",
       "       [-28.1278384 ,  -2.60805656],\n",
       "       [ -4.64779016,   2.5803354 ]])"
      ]
     },
     "execution_count": 30,
     "metadata": {},
     "output_type": "execute_result"
    }
   ],
   "source": [
    "w = data['w']\n",
    "w"
   ]
  },
  {
   "cell_type": "code",
   "execution_count": 31,
   "metadata": {},
   "outputs": [
    {
     "data": {
      "text/plain": [
       "132.4072830110656"
      ]
     },
     "execution_count": 31,
     "metadata": {},
     "output_type": "execute_result"
    }
   ],
   "source": [
    "np.max(np.abs(w))"
   ]
  }
 ],
 "metadata": {
  "kernelspec": {
   "display_name": "base",
   "language": "python",
   "name": "python3"
  },
  "language_info": {
   "codemirror_mode": {
    "name": "ipython",
    "version": 3
   },
   "file_extension": ".py",
   "mimetype": "text/x-python",
   "name": "python",
   "nbconvert_exporter": "python",
   "pygments_lexer": "ipython3",
   "version": "3.8.8"
  },
  "orig_nbformat": 4,
  "vscode": {
   "interpreter": {
    "hash": "88279d2366fe020547cde40dd65aa0e3aa662a6ec1f3ca12d88834876c85e1a6"
   }
  }
 },
 "nbformat": 4,
 "nbformat_minor": 2
}
