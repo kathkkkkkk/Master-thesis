{
 "cells": [
  {
   "attachments": {},
   "cell_type": "markdown",
   "metadata": {},
   "source": [
    "| method | num |epoch| batch size | learning rate | lambda | delta |\n",
    "|----|----|----|----|----|----|----|\n",
    "|SGD|1|3000|32|0.0002|-|-|\n",
    "|AM|1|1000|-|-|0.1|2|\n",
    "||2|2000|-|-|1|0.5|\n",
    "||3|3000|-|-|0.5|1|\n",
    "||4|3000|-|-|0.8|0.8|\n",
    "||5|10000|-|-|0.1|0.5|"
   ]
  }
 ],
 "metadata": {
  "kernelspec": {
   "display_name": "base",
   "language": "python",
   "name": "python3"
  },
  "language_info": {
   "name": "python",
   "version": "3.8.8"
  },
  "orig_nbformat": 4,
  "vscode": {
   "interpreter": {
    "hash": "88279d2366fe020547cde40dd65aa0e3aa662a6ec1f3ca12d88834876c85e1a6"
   }
  }
 },
 "nbformat": 4,
 "nbformat_minor": 2
}
