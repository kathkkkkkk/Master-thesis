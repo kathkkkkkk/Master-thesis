{
 "cells": [
  {
   "cell_type": "code",
   "execution_count": 2,
   "metadata": {},
   "outputs": [],
   "source": [
    "#导入模块\n",
    "import tensorflow as tf\n",
    "#导入数据集\n",
    "mnist = tf.keras.datasets.mnist\n",
    "(x_train, y_train), (x_test, y_test) = mnist.load_data()"
   ]
  },
  {
   "cell_type": "code",
   "execution_count": 3,
   "metadata": {},
   "outputs": [],
   "source": [
    "#Reshape\n",
    "x_train4D = x_train.reshape(x_train.shape[0],28,28,1).astype('float32') \n",
    "x_test4D = x_test.reshape(x_test.shape[0],28,28,1).astype('float32') \n",
    "#像素标准化\n",
    "x_train, x_test = x_train4D / 255.0, x_test4D / 255.0\n"
   ]
  },
  {
   "cell_type": "code",
   "execution_count": 4,
   "metadata": {},
   "outputs": [
    {
     "name": "stdout",
     "output_type": "stream",
     "text": [
      "Model: \"sequential\"\n",
      "_________________________________________________________________\n",
      " Layer (type)                Output Shape              Param #   \n",
      "=================================================================\n",
      " conv2d (Conv2D)             (None, 28, 28, 16)        416       \n",
      "                                                                 \n",
      " max_pooling2d (MaxPooling2D  (None, 14, 14, 16)       0         \n",
      " )                                                               \n",
      "                                                                 \n",
      " conv2d_1 (Conv2D)           (None, 14, 14, 36)        14436     \n",
      "                                                                 \n",
      " max_pooling2d_1 (MaxPooling  (None, 7, 7, 36)         0         \n",
      " 2D)                                                             \n",
      "                                                                 \n",
      " dropout (Dropout)           (None, 7, 7, 36)          0         \n",
      "                                                                 \n",
      " flatten (Flatten)           (None, 1764)              0         \n",
      "                                                                 \n",
      " dense (Dense)               (None, 128)               225920    \n",
      "                                                                 \n",
      " dropout_1 (Dropout)         (None, 128)               0         \n",
      "                                                                 \n",
      " dense_1 (Dense)             (None, 10)                1290      \n",
      "                                                                 \n",
      "=================================================================\n",
      "Total params: 242,062\n",
      "Trainable params: 242,062\n",
      "Non-trainable params: 0\n",
      "_________________________________________________________________\n",
      "None\n"
     ]
    }
   ],
   "source": [
    "model = tf.keras.models.Sequential([\n",
    "    tf.keras.layers.Conv2D(filters=16, kernel_size=(5,5), padding='same',\n",
    "                 input_shape=(28,28,1),  activation='relu'),\n",
    "    tf.keras.layers.MaxPooling2D(pool_size=(2, 2)),\n",
    "    tf.keras.layers.Conv2D(filters=36, kernel_size=(5,5), padding='same', \n",
    "    \t\t\t activation='relu'),\n",
    "    tf.keras.layers.MaxPooling2D(pool_size=(2, 2)),\n",
    "    tf.keras.layers.Dropout(0.25),\n",
    "    tf.keras.layers.Flatten(),\n",
    "    tf.keras.layers.Dense(128, activation='relu'),\n",
    "    tf.keras.layers.Dropout(0.5),\n",
    "    tf.keras.layers.Dense(10,activation='softmax')\n",
    "])\n",
    "\n",
    "#打印模型\n",
    "print(model.summary())\n"
   ]
  },
  {
   "cell_type": "code",
   "execution_count": 5,
   "metadata": {},
   "outputs": [
    {
     "name": "stdout",
     "output_type": "stream",
     "text": [
      "Epoch 1/20\n",
      "160/160 - 15s - loss: 0.4894 - accuracy: 0.8461 - val_loss: 0.1160 - val_accuracy: 0.9668 - 15s/epoch - 92ms/step\n",
      "Epoch 2/20\n",
      "160/160 - 14s - loss: 0.1369 - accuracy: 0.9596 - val_loss: 0.0691 - val_accuracy: 0.9787 - 14s/epoch - 87ms/step\n",
      "Epoch 3/20\n",
      "160/160 - 14s - loss: 0.0986 - accuracy: 0.9705 - val_loss: 0.0526 - val_accuracy: 0.9847 - 14s/epoch - 86ms/step\n",
      "Epoch 4/20\n",
      "160/160 - 14s - loss: 0.0796 - accuracy: 0.9758 - val_loss: 0.0458 - val_accuracy: 0.9875 - 14s/epoch - 84ms/step\n",
      "Epoch 5/20\n",
      "160/160 - 14s - loss: 0.0708 - accuracy: 0.9784 - val_loss: 0.0413 - val_accuracy: 0.9886 - 14s/epoch - 90ms/step\n",
      "Epoch 6/20\n",
      "160/160 - 13s - loss: 0.0595 - accuracy: 0.9819 - val_loss: 0.0397 - val_accuracy: 0.9892 - 13s/epoch - 84ms/step\n",
      "Epoch 7/20\n",
      "160/160 - 13s - loss: 0.0538 - accuracy: 0.9834 - val_loss: 0.0382 - val_accuracy: 0.9897 - 13s/epoch - 81ms/step\n",
      "Epoch 8/20\n",
      "160/160 - 13s - loss: 0.0476 - accuracy: 0.9849 - val_loss: 0.0353 - val_accuracy: 0.9903 - 13s/epoch - 84ms/step\n",
      "Epoch 9/20\n",
      "160/160 - 14s - loss: 0.0457 - accuracy: 0.9857 - val_loss: 0.0337 - val_accuracy: 0.9908 - 14s/epoch - 89ms/step\n",
      "Epoch 10/20\n",
      "160/160 - 14s - loss: 0.0406 - accuracy: 0.9873 - val_loss: 0.0344 - val_accuracy: 0.9912 - 14s/epoch - 85ms/step\n",
      "Epoch 11/20\n",
      "160/160 - 14s - loss: 0.0353 - accuracy: 0.9888 - val_loss: 0.0333 - val_accuracy: 0.9914 - 14s/epoch - 88ms/step\n",
      "Epoch 12/20\n",
      "160/160 - 14s - loss: 0.0349 - accuracy: 0.9893 - val_loss: 0.0330 - val_accuracy: 0.9912 - 14s/epoch - 88ms/step\n",
      "Epoch 13/20\n",
      "160/160 - 15s - loss: 0.0329 - accuracy: 0.9894 - val_loss: 0.0310 - val_accuracy: 0.9914 - 15s/epoch - 94ms/step\n",
      "Epoch 14/20\n",
      "160/160 - 15s - loss: 0.0301 - accuracy: 0.9904 - val_loss: 0.0306 - val_accuracy: 0.9917 - 15s/epoch - 95ms/step\n",
      "Epoch 15/20\n",
      "160/160 - 15s - loss: 0.0292 - accuracy: 0.9909 - val_loss: 0.0308 - val_accuracy: 0.9918 - 15s/epoch - 92ms/step\n",
      "Epoch 16/20\n",
      "160/160 - 15s - loss: 0.0271 - accuracy: 0.9914 - val_loss: 0.0280 - val_accuracy: 0.9919 - 15s/epoch - 96ms/step\n",
      "Epoch 17/20\n",
      "160/160 - 15s - loss: 0.0262 - accuracy: 0.9915 - val_loss: 0.0278 - val_accuracy: 0.9918 - 15s/epoch - 95ms/step\n",
      "Epoch 18/20\n",
      "160/160 - 16s - loss: 0.0225 - accuracy: 0.9923 - val_loss: 0.0309 - val_accuracy: 0.9920 - 16s/epoch - 97ms/step\n",
      "Epoch 19/20\n",
      "160/160 - 15s - loss: 0.0232 - accuracy: 0.9929 - val_loss: 0.0300 - val_accuracy: 0.9921 - 15s/epoch - 95ms/step\n",
      "Epoch 20/20\n",
      "160/160 - 14s - loss: 0.0242 - accuracy: 0.9920 - val_loss: 0.0294 - val_accuracy: 0.9928 - 14s/epoch - 90ms/step\n"
     ]
    },
    {
     "data": {
      "text/plain": [
       "<keras.callbacks.History at 0x1c5ca34a400>"
      ]
     },
     "execution_count": 5,
     "metadata": {},
     "output_type": "execute_result"
    }
   ],
   "source": [
    "#训练配置\n",
    "model.compile(loss='sparse_categorical_crossentropy',\n",
    "              optimizer='adam', metrics=['accuracy']) \n",
    "#开始训练\n",
    "model.fit(x=x_train, y=y_train, validation_split=0.2, \n",
    "                        epochs=20, batch_size=300, verbose=2) \n"
   ]
  }
 ],
 "metadata": {
  "kernelspec": {
   "display_name": "base",
   "language": "python",
   "name": "python3"
  },
  "language_info": {
   "codemirror_mode": {
    "name": "ipython",
    "version": 3
   },
   "file_extension": ".py",
   "mimetype": "text/x-python",
   "name": "python",
   "nbconvert_exporter": "python",
   "pygments_lexer": "ipython3",
   "version": "3.8.8"
  },
  "orig_nbformat": 4,
  "vscode": {
   "interpreter": {
    "hash": "88279d2366fe020547cde40dd65aa0e3aa662a6ec1f3ca12d88834876c85e1a6"
   }
  }
 },
 "nbformat": 4,
 "nbformat_minor": 2
}
