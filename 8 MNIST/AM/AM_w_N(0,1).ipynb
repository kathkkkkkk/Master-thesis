{
 "cells": [
  {
   "cell_type": "code",
   "execution_count": 1,
   "metadata": {},
   "outputs": [],
   "source": [
    "import numpy as np \n",
    "import matplotlib.pyplot as plt \n",
    "from tensorflow.keras.datasets import mnist\n",
    "from sklearn.model_selection import train_test_split"
   ]
  },
  {
   "cell_type": "code",
   "execution_count": 2,
   "metadata": {},
   "outputs": [],
   "source": [
    "DATASET_SIZE = 70000\n",
    "TRAIN_RATIO = 0.7\n",
    "VALIDATION_RATIO = 0.2\n",
    "TEST_RATIO = 0.1\n",
    "\n",
    "(x_train, y_train), (x_test, y_test) = mnist.load_data()\n",
    "\n",
    "x = np.concatenate([x_train, x_test])\n",
    "y = np.concatenate([y_train, y_test])\n",
    "\n",
    "x_train_orig, x_valid_orig, y_train_orig, y_valid_orig = train_test_split(x, y, test_size=(1-TRAIN_RATIO))\n",
    "x_valid_orig, x_test_orig, y_valid_orig, y_test_orig = train_test_split(x_valid_orig, y_valid_orig, test_size=((TEST_RATIO/(VALIDATION_RATIO+TEST_RATIO))))"
   ]
  },
  {
   "cell_type": "code",
   "execution_count": 3,
   "metadata": {},
   "outputs": [],
   "source": [
    "# change the format of data \n",
    "def data_format(y): \n",
    "    y_10 = []\n",
    "    for i in np.arange(10): \n",
    "        temp = (y==i).astype(int)\n",
    "        y_10 = np.append(y_10, temp)\n",
    "        #print(y_10)\n",
    "    y_10 = y_10.reshape(y.shape[0], -1, order='F')\n",
    "    return y_10 \n",
    "\n",
    "# normalize data \n",
    "x_train = x_train_orig.reshape(x_train_orig.shape[0], -1).astype('float32')/255.\n",
    "y_train = data_format(y_train_orig)\n",
    "\n",
    "x_valid = x_valid_orig.reshape(x_valid_orig.shape[0], -1).astype('float32')/255.\n",
    "y_valid = data_format(y_valid_orig)\n",
    "\n",
    "x_test = x_test_orig.reshape(x_test_orig.shape[0], -1).astype('float32')/255.\n",
    "y_test = data_format(y_test_orig)"
   ]
  },
  {
   "cell_type": "code",
   "execution_count": 4,
   "metadata": {},
   "outputs": [],
   "source": [
    "# minimization function \n",
    "def min_fun(x, y, w, lambda_): \n",
    "    N = np.shape(x)[0]\n",
    "    K = np.shape(w)[0]\n",
    "    I = np.identity(K)\n",
    "    one = np.ones(N)\n",
    "    x_ = np.c_[x, one]\n",
    "    S = np.cos(x_.dot(w.T)) \n",
    "    beta = np.linalg.inv(np.dot(S.T, S) + lambda_ * N * I).dot(S.T).dot(y)\n",
    "    return beta, S"
   ]
  },
  {
   "cell_type": "code",
   "execution_count": 5,
   "metadata": {},
   "outputs": [],
   "source": [
    "def error_compute(y, pred):\n",
    "    #error = - np.sum(np.diagonal(y.dot(np.log(pred+1e-10).T)))\n",
    "    # y pred in N*10\n",
    "    #error = np.mean(np.sum((y-pred)**2, axis=1))\n",
    "    N = np.shape(y)[0]\n",
    "    y_index = np.argmax(y, 1)\n",
    "    pred_index = np.argmax(pred, 1)\n",
    "    error = np.linalg.norm((y_index-pred_index), ord=2)/N\n",
    "    return error"
   ]
  },
  {
   "cell_type": "code",
   "execution_count": 6,
   "metadata": {},
   "outputs": [],
   "source": [
    "def accuracy_compute(y, pred): \n",
    "    y_index = np.argmax(y, 1)\n",
    "    pred_index = np.argmax(pred, 1)\n",
    "    accuracy = np.mean((pred_index==y_index).astype('int'))\n",
    "    return accuracy"
   ]
  },
  {
   "cell_type": "code",
   "execution_count": 7,
   "metadata": {},
   "outputs": [],
   "source": [
    "def training(x_train, y_train, x_valid, y_valid, x_test, y_test, \n",
    "             K, w_combine, lambda_): \n",
    "    \n",
    "    N = np.shape(x_train)[0]\n",
    "    \n",
    "    beta = np.zeros(10*K).reshape(10, K)\n",
    "    S = np.zeros(10*N*K).reshape(10, N, K)\n",
    "    for i in np.arange(10): \n",
    "        beta[i],  S[i] = min_fun(x_train, y_train[:,i], w_combine, lambda_)\n",
    "\n",
    "\n",
    "    pred_train = np.zeros(10*N).reshape(N, 10)\n",
    "    for i in np.arange(10): \n",
    "        pred_train[:,i] = S[i].dot(beta[i])\n",
    "    error_train = error_compute(y_train, pred_train)\n",
    "    accuracy_train = accuracy_compute(y_train, pred_train)\n",
    "        \n",
    "        \n",
    "    N_valid = np.shape(x_valid)[0]\n",
    "    beta_valid = np.zeros(10*K).reshape(10, K)\n",
    "    S_valid = np.zeros(10*N_valid*K).reshape(10, N_valid, K)\n",
    "    for i in np.arange(10): \n",
    "        beta_valid[i],  S_valid[i] = min_fun(x_valid, y_valid[:,i], w_combine, lambda_)\n",
    "    pred_valid = np.zeros(10*N_valid).reshape(N_valid, 10)\n",
    "    for i in np.arange(10): \n",
    "        pred_valid[:,i] = S_valid[i].dot(beta[i])\n",
    "    error_valid= error_compute(y_valid, pred_valid)\n",
    "    accuracy_valid= accuracy_compute(y_valid, pred_valid)\n",
    "\n",
    "\n",
    "    N_test = np.shape(x_test)[0]\n",
    "    beta_test = np.zeros(10*K).reshape(10, K)\n",
    "    S_test = np.zeros(10*N_test*K).reshape(10, N_test, K)\n",
    "    for i in np.arange(10): \n",
    "        beta_test[i],  S_test[i] = min_fun(x_test, y_test[:,i], w_combine, lambda_)\n",
    "    pred_test = np.zeros(10*N_test).reshape(N_test, 10)\n",
    "    for i in np.arange(10): \n",
    "        pred_test[:,i] = S_test[i].dot(beta[i])\n",
    "    error_test = error_compute(y_test, pred_test)\n",
    "    accuracy_test = accuracy_compute(y_test, pred_test)\n",
    "\n",
    "    print(\"\\n for k=\" + str(K))\n",
    "    print(\"\\n Training error \" + str(error_train) + \",Accuracy \" + str(accuracy_train)) \n",
    "    print(\"\\n Validation error \" + str(error_valid) + \", Validation accuracy \" + str(accuracy_valid)) \n",
    "    \n",
    "    return error_train, error_valid, error_test, accuracy_train, accuracy_valid, accuracy_test"
   ]
  },
  {
   "cell_type": "code",
   "execution_count": 8,
   "metadata": {},
   "outputs": [
    {
     "name": "stdout",
     "output_type": "stream",
     "text": [
      "\n",
      " for k=1\n",
      "\n",
      " Training error 0.02226856629483284,Accuracy 0.10604298046898916\n",
      "\n",
      " Validation error 0.041457932945114774, Validation accuracy 0.10971428571428571\n",
      "\n",
      " for k=2\n",
      "\n",
      " Training error 0.01992719897405023,Accuracy 0.10453274556623604\n",
      "\n",
      " Validation error 0.03749918366458401, Validation accuracy 0.10114285714285715\n",
      "\n",
      " for k=4\n",
      "\n",
      " Training error 0.01828951515355027,Accuracy 0.10461437988530378\n",
      "\n",
      " Validation error 0.03450820665480332, Validation accuracy 0.09778571428571428\n",
      "\n",
      " for k=8\n",
      "\n",
      " Training error 0.020187293965769074,Accuracy 0.11145125410722667\n",
      "\n",
      " Validation error 0.037800361730263576, Validation accuracy 0.10771428571428572\n",
      "\n",
      " for k=16\n",
      "\n",
      " Training error 0.018602551998956093,Accuracy 0.11526765852364335\n",
      "\n",
      " Validation error 0.0350954238542606, Validation accuracy 0.1035\n",
      "\n",
      " for k=32\n",
      "\n",
      " Training error 0.01911508371547256,Accuracy 0.11945141737586482\n",
      "\n",
      " Validation error 0.035887010895592965, Validation accuracy 0.11042857142857143\n",
      "\n",
      " for k=64\n",
      "\n",
      " Training error 0.01835121743992179,Accuracy 0.1300638788546705\n",
      "\n",
      " Validation error 0.034849750387066135, Validation accuracy 0.11585714285714285\n",
      "\n",
      " for k=128\n",
      "\n",
      " Training error 0.018446929044438027,Accuracy 0.13749260188983448\n",
      "\n",
      " Validation error 0.034852897867981056, Validation accuracy 0.11785714285714285\n",
      "\n",
      " for k=256\n",
      "\n",
      " Training error 0.018243466779769013,Accuracy 0.1513092103920488\n",
      "\n",
      " Validation error 0.035073974303882184, Validation accuracy 0.12671428571428572\n",
      "\n",
      " for k=512\n",
      "\n",
      " Training error 0.017984220674411616,Accuracy 0.17953427620971857\n",
      "\n",
      " Validation error 0.03472163355510068, Validation accuracy 0.1342142857142857\n",
      "\n",
      " for k=1024\n",
      "\n",
      " Training error 0.017601841022483956,Accuracy 0.20941243698850998\n",
      "\n",
      " Validation error 0.034587658527992025, Validation accuracy 0.14007142857142857\n"
     ]
    }
   ],
   "source": [
    "d = 784\n",
    "lambda_ = 0.1\n",
    "delta = 0.1\n",
    "gamma = 3*d - 2\n",
    "\n",
    "N = np.shape(x_train)[0]\n",
    "d = np.shape(x_train)[1] \n",
    "\n",
    "K = np.arange(0,11) \n",
    "K = 2**K\n",
    "\n",
    "error_train_list = []\n",
    "error_valid_list = []\n",
    "error_test_list = []\n",
    "    \n",
    "accuracy_train_list = []\n",
    "accuracy_valid_list = []\n",
    "accuracy_test_list = []\n",
    "\n",
    "for k in K: \n",
    "    b = np.random.uniform(0, 2*np.pi, k*1)\n",
    "    w = np.random.normal(0, 1, k*d)\n",
    "    w_combine = np.append(w,b).reshape((k, d+1), order='F')\n",
    "    \n",
    "    error_train, error_valid, error_test, accuracy_train, accuracy_valid, accuracy_test = training(x_train, y_train, x_valid, y_valid, x_test, y_test, \n",
    "                                                                                                   k, w_combine, lambda_)\n",
    "    \n",
    "    error_train_list = np.append(error_train_list, error_train)\n",
    "    error_valid_list = np.append(error_valid_list, error_valid)\n",
    "    error_test_list = np.append(error_test_list, error_test)\n",
    "    \n",
    "    accuracy_train_list = np.append(accuracy_train_list, accuracy_train)\n",
    "    accuracy_valid_list = np.append(accuracy_valid_list, accuracy_valid)\n",
    "    accuracy_test_list = np.append(accuracy_test_list, accuracy_test)\n",
    "  "
   ]
  },
  {
   "cell_type": "code",
   "execution_count": 9,
   "metadata": {},
   "outputs": [
    {
     "data": {
      "image/png": "[encoded data removed]",
      "text/plain": [
       "<Figure size 720x432 with 2 Axes>"
      ]
     },
     "metadata": {
      "needs_background": "light"
     },
     "output_type": "display_data"
    }
   ],
   "source": [
    "plt.figure(figsize=(10, 6))\n",
    "plt.subplot(1, 2,  1)\n",
    "plt.semilogy(K, error_train_list, label = 'training_loss')\n",
    "plt.semilogy(K, error_valid_list, label = 'validation_loss')\n",
    "plt.legend()\n",
    "plt.xlabel('K')\n",
    "plt.title('Loss')\n",
    "    \n",
    "plt.subplot(1, 2, 2)\n",
    "plt.plot(K, accuracy_train_list*100, label = 'accuracy_loss')\n",
    "plt.plot(K, accuracy_valid_list*100, label = 'accuracy_loss')\n",
    "plt.legend()\n",
    "plt.xlabel('K')\n",
    "plt.ylabel('%')\n",
    "plt.title('Accuracy')\n",
    "plt.tight_layout()\n",
    "plt.show()"
   ]
  },
  {
   "cell_type": "code",
   "execution_count": 10,
   "metadata": {},
   "outputs": [
    {
     "name": "stdout",
     "output_type": "stream",
     "text": [
      "[[   1.      10.971]\n",
      " [   2.      10.114]\n",
      " [   4.       9.779]\n",
      " [   8.      10.771]\n",
      " [  16.      10.35 ]\n",
      " [  32.      11.043]\n",
      " [  64.      11.586]\n",
      " [ 128.      11.786]\n",
      " [ 256.      12.671]\n",
      " [ 512.      13.421]\n",
      " [1024.      14.007]]\n"
     ]
    }
   ],
   "source": [
    "accuracy_table = np.append(K, accuracy_valid;_list*100).reshape((11,2), order='F')\n",
    "np.set_printoptions(precision=3, suppress=True)\n",
    "print(accuracy_table)"
   ]
  }
 ],
 "metadata": {
  "kernelspec": {
   "display_name": "base",
   "language": "python",
   "name": "python3"
  },
  "language_info": {
   "codemirror_mode": {
    "name": "ipython",
    "version": 3
   },
   "file_extension": ".py",
   "mimetype": "text/x-python",
   "name": "python",
   "nbconvert_exporter": "python",
   "pygments_lexer": "ipython3",
   "version": "3.8.8"
  },
  "orig_nbformat": 4,
  "vscode": {
   "interpreter": {
    "hash": "88279d2366fe020547cde40dd65aa0e3aa662a6ec1f3ca12d88834876c85e1a6"
   }
  }
 },
 "nbformat": 4,
 "nbformat_minor": 2
}
