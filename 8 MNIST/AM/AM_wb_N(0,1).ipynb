{
 "cells": [
  {
   "cell_type": "code",
   "execution_count": 1,
   "metadata": {},
   "outputs": [],
   "source": [
    "import numpy as np \n",
    "import matplotlib.pyplot as plt \n",
    "from tensorflow.keras.datasets import mnist\n",
    "from sklearn.model_selection import train_test_split"
   ]
  },
  {
   "cell_type": "code",
   "execution_count": 2,
   "metadata": {},
   "outputs": [],
   "source": [
    "DATASET_SIZE = 70000\n",
    "TRAIN_RATIO = 0.7\n",
    "VALIDATION_RATIO = 0.2\n",
    "TEST_RATIO = 0.1\n",
    "\n",
    "(x_train, y_train), (x_test, y_test) = mnist.load_data()\n",
    "\n",
    "x = np.concatenate([x_train, x_test])\n",
    "y = np.concatenate([y_train, y_test])\n",
    "\n",
    "x_train_orig, x_valid_orig, y_train_orig, y_valid_orig = train_test_split(x, y, test_size=(1-TRAIN_RATIO))\n",
    "x_valid_orig, x_test_orig, y_valid_orig, y_test_orig = train_test_split(x_valid_orig, y_valid_orig, test_size=((TEST_RATIO/(VALIDATION_RATIO+TEST_RATIO))))"
   ]
  },
  {
   "cell_type": "code",
   "execution_count": 3,
   "metadata": {},
   "outputs": [],
   "source": [
    "# change the format of data \n",
    "def data_format(y): \n",
    "    y_10 = []\n",
    "    for i in np.arange(10): \n",
    "        temp = (y==i).astype(int)\n",
    "        y_10 = np.append(y_10, temp)\n",
    "        #print(y_10)\n",
    "    y_10 = y_10.reshape(y.shape[0], -1, order='F')\n",
    "    return y_10 \n",
    "\n",
    "# normalize data \n",
    "x_train = x_train_orig.reshape(x_train_orig.shape[0], -1).astype('float32')/255.\n",
    "y_train = data_format(y_train_orig)\n",
    "\n",
    "x_valid = x_valid_orig.reshape(x_valid_orig.shape[0], -1).astype('float32')/255.\n",
    "y_valid = data_format(y_valid_orig)\n",
    "\n",
    "x_test = x_test_orig.reshape(x_test_orig.shape[0], -1).astype('float32')/255.\n",
    "y_test = data_format(y_test_orig)"
   ]
  },
  {
   "cell_type": "code",
   "execution_count": 4,
   "metadata": {},
   "outputs": [],
   "source": [
    "# minimization function \n",
    "def min_fun(x, y, w, lambda_): \n",
    "    N = np.shape(x)[0]\n",
    "    K = np.shape(w)[0]\n",
    "    I = np.identity(K)\n",
    "    one = np.ones(N)\n",
    "    x_ = np.c_[x, one]\n",
    "    S = np.cos(x_.dot(w.T)) \n",
    "    beta = np.linalg.inv(np.dot(S.T, S) + lambda_ * N * I).dot(S.T).dot(y)\n",
    "    return beta, S"
   ]
  },
  {
   "cell_type": "code",
   "execution_count": 5,
   "metadata": {},
   "outputs": [],
   "source": [
    "def error_compute(y, pred):\n",
    "    #error = - np.sum(np.diagonal(y.dot(np.log(pred+1e-10).T)))\n",
    "    # y pred in N*10\n",
    "    #error = np.mean(np.sum((y-pred)**2, axis=1))\n",
    "    N = np.shape(y)[0]\n",
    "    y_index = np.argmax(y, 1)\n",
    "    pred_index = np.argmax(pred, 1)\n",
    "    error = np.linalg.norm((y_index-pred_index), ord=2)/N\n",
    "    return error"
   ]
  },
  {
   "cell_type": "code",
   "execution_count": 6,
   "metadata": {},
   "outputs": [],
   "source": [
    "def accuracy_compute(y, pred): \n",
    "    y_index = np.argmax(y, 1)\n",
    "    pred_index = np.argmax(pred, 1)\n",
    "    accuracy = np.mean((pred_index==y_index).astype('int'))\n",
    "    return accuracy"
   ]
  },
  {
   "cell_type": "code",
   "execution_count": 7,
   "metadata": {},
   "outputs": [],
   "source": [
    "def training(x_train, y_train, x_valid, y_valid, x_test, y_test, \n",
    "             K, w_combine, lambda_): \n",
    "    \n",
    "    N = np.shape(x_train)[0]\n",
    "    \n",
    "    beta = np.zeros(10*K).reshape(10, K)\n",
    "    S = np.zeros(10*N*K).reshape(10, N, K)\n",
    "    for i in np.arange(10): \n",
    "        beta[i],  S[i] = min_fun(x_train, y_train[:,i], w_combine, lambda_)\n",
    "\n",
    "\n",
    "    pred_train = np.zeros(10*N).reshape(N, 10)\n",
    "    for i in np.arange(10): \n",
    "        pred_train[:,i] = S[i].dot(beta[i])\n",
    "    error_train = error_compute(y_train, pred_train)\n",
    "    accuracy_train = accuracy_compute(y_train, pred_train)\n",
    "        \n",
    "        \n",
    "    N_valid = np.shape(x_valid)[0]\n",
    "    beta_valid = np.zeros(10*K).reshape(10, K)\n",
    "    S_valid = np.zeros(10*N_valid*K).reshape(10, N_valid, K)\n",
    "    for i in np.arange(10): \n",
    "        beta_valid[i],  S_valid[i] = min_fun(x_valid, y_valid[:,i], w_combine, lambda_)\n",
    "    pred_valid = np.zeros(10*N_valid).reshape(N_valid, 10)\n",
    "    for i in np.arange(10): \n",
    "        pred_valid[:,i] = S_valid[i].dot(beta[i])\n",
    "    error_valid= error_compute(y_valid, pred_valid)\n",
    "    accuracy_valid= accuracy_compute(y_valid, pred_valid)\n",
    "\n",
    "\n",
    "    N_test = np.shape(x_test)[0]\n",
    "    beta_test = np.zeros(10*K).reshape(10, K)\n",
    "    S_test = np.zeros(10*N_test*K).reshape(10, N_test, K)\n",
    "    for i in np.arange(10): \n",
    "        beta_test[i],  S_test[i] = min_fun(x_test, y_test[:,i], w_combine, lambda_)\n",
    "    pred_test = np.zeros(10*N_test).reshape(N_test, 10)\n",
    "    for i in np.arange(10): \n",
    "        pred_test[:,i] = S_test[i].dot(beta[i])\n",
    "    error_test = error_compute(y_test, pred_test)\n",
    "    accuracy_test = accuracy_compute(y_test, pred_test)\n",
    "\n",
    "    print(\"\\n for k=\" + str(K))\n",
    "    print(\"\\n Training error \" + str(error_train) + \",Accuracy \" + str(accuracy_train)) \n",
    "    print(\"\\n Validation error \" + str(error_valid) + \", Validation accuracy \" + str(accuracy_valid)) \n",
    "    \n",
    "    return error_train, error_valid, error_test, accuracy_train, accuracy_valid, accuracy_test"
   ]
  },
  {
   "cell_type": "code",
   "execution_count": 8,
   "metadata": {},
   "outputs": [
    {
     "name": "stdout",
     "output_type": "stream",
     "text": [
      "\n",
      " for k=1\n",
      "\n",
      " Training error 0.017137460053902438,Accuracy 0.10608379762852303\n",
      "\n",
      " Validation error 0.03211204872737627, Validation accuracy 0.10592857142857143\n",
      "\n",
      " for k=2\n",
      "\n",
      " Training error 0.01879888332939823,Accuracy 0.10879813873752525\n",
      "\n",
      " Validation error 0.034987315485729385, Validation accuracy 0.11078571428571428\n",
      "\n",
      " for k=4\n",
      "\n",
      " Training error 0.019089812858500754,Accuracy 0.105165411539011\n",
      "\n",
      " Validation error 0.03580260508136587, Validation accuracy 0.103\n",
      "\n",
      " for k=8\n",
      "\n",
      " Training error 0.017094582633327603,Accuracy 0.10883895589705912\n",
      "\n",
      " Validation error 0.031948379921239146, Validation accuracy 0.10514285714285715\n",
      "\n",
      " for k=16\n",
      "\n",
      " Training error 0.01871253096633556,Accuracy 0.11708402212290046\n",
      "\n",
      " Validation error 0.0350108583739621, Validation accuracy 0.10807142857142857\n",
      "\n",
      " for k=32\n",
      "\n",
      " Training error 0.018492234285376396,Accuracy 0.120941243698851\n",
      "\n",
      " Validation error 0.0347194293661374, Validation accuracy 0.10692857142857143\n",
      "\n",
      " for k=64\n",
      "\n",
      " Training error 0.018439849221732005,Accuracy 0.12575766852384743\n",
      "\n",
      " Validation error 0.03457091203864419, Validation accuracy 0.11535714285714285\n",
      "\n",
      " for k=128\n",
      "\n",
      " Training error 0.01838233079124639,Accuracy 0.13877834241515133\n",
      "\n",
      " Validation error 0.03501107696435632, Validation accuracy 0.11642857142857142\n",
      "\n",
      " for k=256\n",
      "\n",
      " Training error 0.01823567986769808,Accuracy 0.15390110002244944\n",
      "\n",
      " Validation error 0.034547881591336094, Validation accuracy 0.122\n",
      "\n",
      " for k=512\n",
      "\n",
      " Training error 0.01802217420280475,Accuracy 0.17796281556766463\n",
      "\n",
      " Validation error 0.034594738304651866, Validation accuracy 0.138\n",
      "\n",
      " for k=1024\n",
      "\n",
      " Training error 0.017571929398822718,Accuracy 0.20855527663829873\n",
      "\n",
      " Validation error 0.034315983662047016, Validation accuracy 0.1372857142857143\n"
     ]
    }
   ],
   "source": [
    "d = 784\n",
    "lambda_ = 0.1\n",
    "delta = 0.1\n",
    "gamma = 3*d - 2\n",
    "\n",
    "N = np.shape(x_train)[0]\n",
    "d = np.shape(x_train)[1] \n",
    "\n",
    "K = np.arange(0,11) \n",
    "K = 2**K\n",
    "\n",
    "error_train_list = []\n",
    "error_valid_list = []\n",
    "error_test_list = []\n",
    "    \n",
    "accuracy_train_list = []\n",
    "accuracy_valid_list = []\n",
    "accuracy_test_list = []\n",
    "\n",
    "for k in K: \n",
    "    b = np.random.normal(0, 1, k*1)\n",
    "    w = np.random.normal(0, 1, k*d)\n",
    "    w_combine = np.append(w,b).reshape((k, d+1), order='F')\n",
    "    \n",
    "    error_train, error_valid, error_test, accuracy_train, accuracy_valid, accuracy_test = training(x_train, y_train, x_valid, y_valid, x_test, y_test, \n",
    "                                                                                                   k, w_combine, lambda_)\n",
    "    \n",
    "    error_train_list = np.append(error_train_list, error_train)\n",
    "    error_valid_list = np.append(error_valid_list, error_valid)\n",
    "    error_test_list = np.append(error_test_list, error_test)\n",
    "    \n",
    "    accuracy_train_list = np.append(accuracy_train_list, accuracy_train)\n",
    "    accuracy_valid_list = np.append(accuracy_valid_list, accuracy_valid)\n",
    "    accuracy_test_list = np.append(accuracy_test_list, accuracy_test)\n",
    "  "
   ]
  },
  {
   "cell_type": "code",
   "execution_count": 9,
   "metadata": {},
   "outputs": [
    {
     "data": {
      "image/png": "[encoded data removed]",
      "text/plain": [
       "<Figure size 720x432 with 2 Axes>"
      ]
     },
     "metadata": {
      "needs_background": "light"
     },
     "output_type": "display_data"
    }
   ],
   "source": [
    "plt.figure(figsize=(10, 6))\n",
    "plt.subplot(1, 2,  1)\n",
    "plt.semilogy(K, error_train_list, label = 'training_loss')\n",
    "plt.semilogy(K, error_valid_list, label = 'validation_loss')\n",
    "plt.legend()\n",
    "plt.xlabel('K')\n",
    "plt.title('Loss')\n",
    "    \n",
    "plt.subplot(1, 2, 2)\n",
    "plt.plot(K, accuracy_train_list*100, label = 'accuracy_loss')\n",
    "plt.plot(K, accuracy_valid_list*100, label = 'accuracy_loss')\n",
    "plt.legend()\n",
    "plt.xlabel('K')\n",
    "plt.ylabel('%')\n",
    "plt.title('Accuracy')\n",
    "plt.tight_layout()\n",
    "plt.show()"
   ]
  },
  {
   "cell_type": "code",
   "execution_count": 10,
   "metadata": {},
   "outputs": [
    {
     "name": "stdout",
     "output_type": "stream",
     "text": [
      "[[   1.      10.593]\n",
      " [   2.      11.079]\n",
      " [   4.      10.3  ]\n",
      " [   8.      10.514]\n",
      " [  16.      10.807]\n",
      " [  32.      10.693]\n",
      " [  64.      11.536]\n",
      " [ 128.      11.643]\n",
      " [ 256.      12.2  ]\n",
      " [ 512.      13.8  ]\n",
      " [1024.      13.729]]\n"
     ]
    }
   ],
   "source": [
    "accuracy_table = np.append(K, accuracy_valid_list*100).reshape((11,2), order='F')\n",
    "np.set_printoptions(precision=3, suppress=True)\n",
    "print(accuracy_table)"
   ]
  }
 ],
 "metadata": {
  "kernelspec": {
   "display_name": "base",
   "language": "python",
   "name": "python3"
  },
  "language_info": {
   "codemirror_mode": {
    "name": "ipython",
    "version": 3
   },
   "file_extension": ".py",
   "mimetype": "text/x-python",
   "name": "python",
   "nbconvert_exporter": "python",
   "pygments_lexer": "ipython3",
   "version": "3.8.8"
  },
  "orig_nbformat": 4,
  "vscode": {
   "interpreter": {
    "hash": "88279d2366fe020547cde40dd65aa0e3aa662a6ec1f3ca12d88834876c85e1a6"
   }
  }
 },
 "nbformat": 4,
 "nbformat_minor": 2
}
