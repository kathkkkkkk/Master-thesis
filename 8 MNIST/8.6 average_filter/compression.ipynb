{
 "cells": [
  {
   "cell_type": "code",
   "execution_count": 54,
   "metadata": {},
   "outputs": [],
   "source": [
    "import numpy as np \n",
    "from tensorflow.keras.datasets import mnist\n",
    "import matplotlib.pyplot as plt \n",
    "\n",
    "import cv2 "
   ]
  },
  {
   "cell_type": "code",
   "execution_count": 55,
   "metadata": {},
   "outputs": [],
   "source": [
    "(x_train, y_train), (x_test, y_test) = mnist.load_data()"
   ]
  },
  {
   "cell_type": "code",
   "execution_count": 56,
   "metadata": {},
   "outputs": [
    {
     "data": {
      "image/png": "[encoded data removed]",
      "text/plain": [
       "<Figure size 432x288 with 1 Axes>"
      ]
     },
     "metadata": {
      "needs_background": "light"
     },
     "output_type": "display_data"
    }
   ],
   "source": [
    "plt.imshow(x_train[0].reshape(28,28))\n",
    "plt.gray()"
   ]
  },
  {
   "cell_type": "code",
   "execution_count": 57,
   "metadata": {},
   "outputs": [],
   "source": [
    "def image_compress(x, k=2): \n",
    "    comp_size = int(28/k)\n",
    "    x_temp = x.reshape(28,28)\n",
    "    x_comp = np.zeros(comp_size * comp_size).reshape(comp_size, comp_size)\n",
    "    for i in range(0, comp_size): \n",
    "        for j in range(0, comp_size): \n",
    "            avg = x_temp[k*i:k*(i+1), k*j:k*(j+1)] \n",
    "            x_comp[i,j] = np.mean(avg) \n",
    "    x_comp = x_comp.reshape(comp_size * comp_size)\n",
    "    return x_comp"
   ]
  },
  {
   "cell_type": "code",
   "execution_count": 58,
   "metadata": {},
   "outputs": [
    {
     "data": {
      "image/png": "[encoded data removed]",
      "text/plain": [
       "<Figure size 432x288 with 1 Axes>"
      ]
     },
     "metadata": {
      "needs_background": "light"
     },
     "output_type": "display_data"
    }
   ],
   "source": [
    "x1 = image_compress(x_train[0], 2)\n",
    "plt.imshow(x1.reshape(14,14))\n",
    "plt.gray()"
   ]
  },
  {
   "cell_type": "code",
   "execution_count": 59,
   "metadata": {},
   "outputs": [
    {
     "data": {
      "image/png": "[encoded data removed]",
      "text/plain": [
       "<Figure size 432x288 with 1 Axes>"
      ]
     },
     "metadata": {
      "needs_background": "light"
     },
     "output_type": "display_data"
    }
   ],
   "source": [
    "x1 = image_compress(x_train[0],4)\n",
    "plt.imshow(x1.reshape(7,7))\n",
    "plt.gray()"
   ]
  },
  {
   "cell_type": "code",
   "execution_count": 60,
   "metadata": {},
   "outputs": [],
   "source": [
    "#n_train = np.shape(x_train)[0]\n",
    "n_train = 100\n",
    "x_train_comp = []\n",
    "for i in range(n_train): \n",
    "    x_train_comp = np.append(x_train_comp, image_compress(x_train[i], 2))\n",
    "x_train_comp = x_train_comp.reshape((n_train, -1))\n",
    "\n",
    "#np.shape(x_train_comp)"
   ]
  },
  {
   "cell_type": "code",
   "execution_count": 61,
   "metadata": {},
   "outputs": [],
   "source": [
    "from data_get import get_data_compress\n",
    "\n",
    "x_train, y_train, x_valid, y_valid, x_test, y_test  = get_data_compress(k=4)"
   ]
  },
  {
   "cell_type": "code",
   "execution_count": 65,
   "metadata": {},
   "outputs": [
    {
     "name": "stdout",
     "output_type": "stream",
     "text": [
      "0.0\n"
     ]
    },
    {
     "name": "stderr",
     "output_type": "stream",
     "text": [
      "<ipython-input-65-d796a9814226>:5: RuntimeWarning: divide by zero encountered in true_divide\n",
      "  px_train = (np.exp(-1 / 2 * np.sum(np.multiply(x_train.T, cov_x @ x_train.T), axis=0)) * 1 / (\n"
     ]
    }
   ],
   "source": [
    "d = np.shape(x_train)[1]\n",
    "guess1, guess2 = 1, 1.1\n",
    "cov_x = np.cov(x_train.T)\n",
    "print(np.linalg.det(cov_x))\n",
    "px_train = (np.exp(-1 / 2 * np.sum(np.multiply(x_train.T, cov_x @ x_train.T), axis=0)) * 1 / (\n",
    "                                (2 * np.pi) ** (d / 2)) / np.sqrt(np.linalg.det(cov_x))).reshape(len(x_train), 1)\n"
   ]
  }
 ],
 "metadata": {
  "kernelspec": {
   "display_name": "base",
   "language": "python",
   "name": "python3"
  },
  "language_info": {
   "codemirror_mode": {
    "name": "ipython",
    "version": 3
   },
   "file_extension": ".py",
   "mimetype": "text/x-python",
   "name": "python",
   "nbconvert_exporter": "python",
   "pygments_lexer": "ipython3",
   "version": "3.8.8"
  },
  "orig_nbformat": 4
 },
 "nbformat": 4,
 "nbformat_minor": 2
}
