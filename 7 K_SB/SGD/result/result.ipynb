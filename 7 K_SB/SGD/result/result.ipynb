{
 "cells": [
  {
   "cell_type": "code",
   "execution_count": 1,
   "metadata": {},
   "outputs": [],
   "source": [
    "import numpy as np\n",
    "import matplotlib.pyplot as plt"
   ]
  },
  {
   "cell_type": "code",
   "execution_count": 2,
   "metadata": {},
   "outputs": [],
   "source": [
    "data = np.load('sgd_1.npz')\n",
    "error_test_list = data['error_test_end']"
   ]
  },
  {
   "cell_type": "code",
   "execution_count": 3,
   "metadata": {},
   "outputs": [
    {
     "data": {
      "text/plain": [
       "array([0.03087607, 0.05144181, 0.05198421, 0.05239189, 0.05468172,\n",
       "       0.05285918, 0.0601613 , 0.06856668, 0.14480821, 0.27789782])"
      ]
     },
     "execution_count": 3,
     "metadata": {},
     "output_type": "execute_result"
    }
   ],
   "source": [
    "data = np.load('sgd_2.npz')\n",
    "error_test_list = np.append(error_test_list, data['error_test_end'])\n",
    "data = np.load('sgd_3.npz')\n",
    "error_test_list = np.append(error_test_list, data['error_test_end'])\n",
    "data = np.load('sgd_4.npz')\n",
    "error_test_list = np.append(error_test_list, data['error_test_end'])\n",
    "data = np.load('sgd_5.npz')\n",
    "error_test_list = np.append(error_test_list, data['error_test_end'])\n",
    "data = np.load('sgd_6.npz')\n",
    "error_test_list = np.append(error_test_list, data['error_test_end'])\n",
    "data = np.load('sgd_7.npz')\n",
    "error_test_list = np.append(error_test_list, data['error_test_end'])\n",
    "data = np.load('sgd_8.npz')\n",
    "error_test_list = np.append(error_test_list, data['error_test_end'])\n",
    "data = np.load('sgd_9.npz')\n",
    "error_test_list = np.append(error_test_list, data['error_test_end'])\n",
    "data = np.load('sgd_10.npz')\n",
    "error_test_list = np.append(error_test_list, data['error_test_end'])\n",
    "\n",
    "error_test_list"
   ]
  },
  {
   "cell_type": "code",
   "execution_count": 4,
   "metadata": {},
   "outputs": [
    {
     "data": {
      "text/plain": [
       "array([1024,  512,  256,  128,   64,   32,   16,    8,    4,    2],\n",
       "      dtype=int32)"
      ]
     },
     "execution_count": 4,
     "metadata": {},
     "output_type": "execute_result"
    }
   ],
   "source": [
    "K = np.arange(1, 11)\n",
    "K = 2**K\n",
    "K = K[::-1]\n",
    "K"
   ]
  },
  {
   "cell_type": "code",
   "execution_count": 5,
   "metadata": {},
   "outputs": [
    {
     "data": {
      "image/png": "[encoded data removed]",
      "text/plain": [
       "<Figure size 432x288 with 1 Axes>"
      ]
     },
     "metadata": {
      "needs_background": "light"
     },
     "output_type": "display_data"
    }
   ],
   "source": [
    "fig, ax1 = plt.subplots(1,1)\n",
    "ax1.set_xscale('log', base = 10)\n",
    "ax1.set_yscale('log', base = 10)\n",
    "ax1.plot(K, error_test_list, '*')\n",
    "plt.plot([2,1024], [1/2, 1/1024], color='red')\n",
    "plt.xlabel('K')\n",
    "plt.ylabel('test_error')\n",
    "plt.show()"
   ]
  }
 ],
 "metadata": {
  "kernelspec": {
   "display_name": "base",
   "language": "python",
   "name": "python3"
  },
  "language_info": {
   "codemirror_mode": {
    "name": "ipython",
    "version": 3
   },
   "file_extension": ".py",
   "mimetype": "text/x-python",
   "name": "python",
   "nbconvert_exporter": "python",
   "pygments_lexer": "ipython3",
   "version": "3.8.8"
  },
  "orig_nbformat": 4,
  "vscode": {
   "interpreter": {
    "hash": "88279d2366fe020547cde40dd65aa0e3aa662a6ec1f3ca12d88834876c85e1a6"
   }
  }
 },
 "nbformat": 4,
 "nbformat_minor": 2
}
