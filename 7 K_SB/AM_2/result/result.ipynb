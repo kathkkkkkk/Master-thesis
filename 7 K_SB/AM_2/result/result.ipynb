{
 "cells": [
  {
   "cell_type": "code",
   "execution_count": 1,
   "metadata": {},
   "outputs": [],
   "source": [
    "import numpy as np\n",
    "import matplotlib.pyplot as plt"
   ]
  },
  {
   "cell_type": "code",
   "execution_count": 2,
   "metadata": {},
   "outputs": [],
   "source": [
    "data = np.load('am_1.npz')\n",
    "error_test_list = data['error_test_end']"
   ]
  },
  {
   "cell_type": "code",
   "execution_count": 3,
   "metadata": {},
   "outputs": [
    {
     "data": {
      "text/plain": [
       "array([8.74380186e-04, 3.64854684e-03, 1.43208753e-02, 3.86978107e-02,\n",
       "       5.48029597e-02, 1.19177645e-01, 2.97614823e-01, 6.71666099e-01,\n",
       "       5.51435691e-01, 9.44557617e-01])"
      ]
     },
     "execution_count": 3,
     "metadata": {},
     "output_type": "execute_result"
    }
   ],
   "source": [
    "data = np.load('am_2.npz')\n",
    "error_test_list = np.append(error_test_list, data['error_test_end'])\n",
    "data = np.load('am_3.npz')\n",
    "error_test_list = np.append(error_test_list, data['error_test_end'])\n",
    "data = np.load('am_4.npz')\n",
    "error_test_list = np.append(error_test_list, data['error_test_end'])\n",
    "data = np.load('am_5.npz')\n",
    "error_test_list = np.append(error_test_list, data['error_test_end'])\n",
    "data = np.load('am_6.npz')\n",
    "error_test_list = np.append(error_test_list, data['error_test_end'])\n",
    "data = np.load('am_7.npz')\n",
    "error_test_list = np.append(error_test_list, data['error_test_end'])\n",
    "data = np.load('am_8.npz')\n",
    "error_test_list = np.append(error_test_list, data['error_test_end'])\n",
    "data = np.load('am_9.npz')\n",
    "error_test_list = np.append(error_test_list, data['error_test_end'])\n",
    "data = np.load('am_10.npz')\n",
    "error_test_list = np.append(error_test_list, data['error_test_end'])\n",
    "\n",
    "error_test_list"
   ]
  },
  {
   "cell_type": "code",
   "execution_count": 4,
   "metadata": {},
   "outputs": [
    {
     "data": {
      "text/plain": [
       "array([1024,  512,  256,  128,   64,   32,   16,    8,    4,    2],\n",
       "      dtype=int32)"
      ]
     },
     "execution_count": 4,
     "metadata": {},
     "output_type": "execute_result"
    }
   ],
   "source": [
    "K = np.arange(1, 11)\n",
    "K = 2**K\n",
    "K = K[::-1]\n",
    "K"
   ]
  },
  {
   "cell_type": "code",
   "execution_count": 5,
   "metadata": {},
   "outputs": [
    {
     "data": {
      "image/png": "[encoded data removed]",
      "text/plain": [
       "<Figure size 432x288 with 1 Axes>"
      ]
     },
     "metadata": {
      "needs_background": "light"
     },
     "output_type": "display_data"
    }
   ],
   "source": [
    "fig, ax1 = plt.subplots(1,1)\n",
    "ax1.set_xscale('log', base = 10)\n",
    "ax1.set_yscale('log', base = 10)\n",
    "ax1.plot(K, error_test_list, '*')\n",
    "plt.plot([2,1024], [1/2, 1/1024], color='red')\n",
    "plt.xlabel('K')\n",
    "plt.ylabel('test_error')\n",
    "plt.show()"
   ]
  }
 ],
 "metadata": {
  "kernelspec": {
   "display_name": "base",
   "language": "python",
   "name": "python3"
  },
  "language_info": {
   "codemirror_mode": {
    "name": "ipython",
    "version": 3
   },
   "file_extension": ".py",
   "mimetype": "text/x-python",
   "name": "python",
   "nbconvert_exporter": "python",
   "pygments_lexer": "ipython3",
   "version": "3.8.8"
  },
  "orig_nbformat": 4,
  "vscode": {
   "interpreter": {
    "hash": "88279d2366fe020547cde40dd65aa0e3aa662a6ec1f3ca12d88834876c85e1a6"
   }
  }
 },
 "nbformat": 4,
 "nbformat_minor": 2
}
