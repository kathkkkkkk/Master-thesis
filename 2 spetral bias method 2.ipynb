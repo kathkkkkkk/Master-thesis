{
 "cells": [
  {
   "cell_type": "code",
   "execution_count": 19,
   "metadata": {},
   "outputs": [],
   "source": [
    "import numpy as np \n",
    "from math import pi\n",
    "import sympy as sy\n",
    "import matplotlib.pyplot as plt \n",
    "from numba import jit\n",
    "from sklearn.model_selection import train_test_split"
   ]
  },
  {
   "cell_type": "code",
   "execution_count": 20,
   "metadata": {},
   "outputs": [
    {
     "data": {
      "image/png": "[encoded data removed]",
      "text/plain": [
       "<Figure size 432x288 with 1 Axes>"
      ]
     },
     "metadata": {
      "needs_background": "light"
     },
     "output_type": "display_data"
    }
   ],
   "source": [
    "# general random sample \n",
    "\n",
    "seed = 2022\n",
    "np.random.seed(seed)\n",
    "N = 512\n",
    "x = np.random.uniform(-pi,pi,2*N)\n",
    "x.sort()\n",
    "b1,b2,b3 = np.random.uniform(0,2*pi,3)\n",
    "y = np.sin(x) + np.sin(10*x+b1) + np.sin(20*x+b2) + np.sin(30*x+b3)\n",
    "\n",
    "# split the data \n",
    "# x_tr, x_ts, y_tr, y_ts = train_test_split(x, y, test_size=0.5)\n",
    "# print(len(x_tr))\n",
    "# x_ts, y_ts = zip(*sorted(zip(x_ts, y_ts)))\n",
    "\n",
    "# grid sample\n",
    "N0 = 1000\n",
    "dx = 0.001\n",
    "x0 = np.linspace(-N0/2*dx, (N0/2-1)*dx, N0, endpoint=False)\n",
    "x0.sort()\n",
    "y0 = np.sin(x0) + np.sin(10*x0+b1) + np.sin(20*x0+b2) + np.sin(30*x0+b3)\n",
    "\n",
    "# plt.plot(x_ts,y_ts)\n",
    "# plt.show()\n",
    "plt.plot(x0, y0)\n",
    "plt.show()"
   ]
  },
  {
   "cell_type": "code",
   "execution_count": 21,
   "metadata": {},
   "outputs": [],
   "source": [
    "# define the function includes w0\n",
    "\n",
    "d = 1\n",
    "px = 1/2/pi\n",
    "fp = np.sqrt(px) * (y - np.mean(y))\n",
    "# print(fp)\n",
    "\n",
    "@jit(nopython=True)\n",
    "def f_approx(w0):\n",
    "    f = 0\n",
    "    for i in range(N-1):\n",
    "        for j in range(N-1): \n",
    "            sinc = 1\n",
    "            if d == 1: \n",
    "                K = [1]\n",
    "            else: \n",
    "                K = range(1,d)\n",
    "            for k in K: \n",
    "                t = w0*(x[j]**k - x[i]**k)\n",
    "                if t == 0: \n",
    "                    sinc = sinc * 1\n",
    "                else: \n",
    "                    sinc = sinc * np.sin(t) / t\n",
    "            f = f + fp[i]*fp[j]/(px*px) * (w0/pi)**d * sinc \n",
    "    f = f * 2 / (N**2)\n",
    "    return f      \n",
    "\n",
    "# print(f_approx(10))"
   ]
  },
  {
   "cell_type": "code",
   "execution_count": 22,
   "metadata": {},
   "outputs": [
    {
     "data": {
      "image/png": "[encoded data removed]",
      "text/plain": [
       "<Figure size 432x288 with 1 Axes>"
      ]
     },
     "metadata": {
      "needs_background": "light"
     },
     "output_type": "display_data"
    }
   ],
   "source": [
    "W = np.linspace(-N, N, 2*N+1)\n",
    "# print(W)\n",
    "f_w = np.zeros(2*N+1)\n",
    "\n",
    "for w in W: \n",
    "    i = w + N\n",
    "    i = int(i)\n",
    "    f_w[i] = f_approx(w)\n",
    "# print(f_w)\n",
    "\n",
    "y_var = np.var(y)\n",
    "# print(y_var)\n",
    "\n",
    "plt.plot(W, f_w)\n",
    "plt.axhline(y = y_var)\n",
    "plt.show()"
   ]
  },
  {
   "cell_type": "code",
   "execution_count": 23,
   "metadata": {},
   "outputs": [
    {
     "name": "stdout",
     "output_type": "stream",
     "text": [
      "0.060070993721154764\n",
      "2\n"
     ]
    }
   ],
   "source": [
    "# compute the cut-off w0\n",
    "\n",
    "# w0 = sy.symbols('w0')\n",
    "# print(sy.solve(f_approx(w0)-np.var(y),w0))\n",
    "\n",
    "f_abs = np.abs(f_w-y_var)\n",
    "\n",
    "f_min = min(f_abs)\n",
    "print(f_min)\n",
    "\n",
    "w0 = np.argmin(f_abs) - N\n",
    "print(w0)"
   ]
  },
  {
   "cell_type": "code",
   "execution_count": 24,
   "metadata": {},
   "outputs": [],
   "source": [
    "# training the function with NN  \n",
    "\n",
    "import tensorflow as tf \n",
    "from tensorflow import keras "
   ]
  },
  {
   "cell_type": "code",
   "execution_count": 25,
   "metadata": {},
   "outputs": [],
   "source": [
    "# define the keras model \n",
    "K = 64\n",
    "input_layer = keras.Input(shape = (1, ))\n",
    "hidden_layer_1 = keras.layers.Dense(units = K, \n",
    "                                    activation = 'sigmoid')\n",
    "hidden_layer_2 = keras.layers.Dense(units = K, \n",
    "                                    activation = 'sigmoid')\n",
    "hidden_layer_3 = keras.layers.Dense(units = K, \n",
    "                                    activation = 'sigmoid')\n",
    "hidden_layer_4 = keras.layers.Dense(units = K, \n",
    "                                    activation = 'sigmoid')\n",
    "hidden_layer_5 = keras.layers.Dense(units = K, \n",
    "                                    activation = 'sigmoid')\n",
    "output_layer = keras.layers.Dense(units = 1, \n",
    "                                    use_bias = False)\n",
    "model = keras.Sequential([input_layer, hidden_layer_1,\n",
    "                          hidden_layer_2, hidden_layer_3, \n",
    "                          hidden_layer_4, hidden_layer_5, \n",
    "                          output_layer])\n",
    "\n",
    "# compling the model \n",
    "adam = keras.optimizers.Adam(learning_rate=0.0005)\n",
    "model.compile(optimizer = 'adam', loss = 'mse')"
   ]
  },
  {
   "cell_type": "code",
   "execution_count": 26,
   "metadata": {},
   "outputs": [],
   "source": [
    "def NN_epoch(n_epoch):\n",
    "    # fitting the data \n",
    "    tf.random.set_seed(seed)\n",
    "    beta = model.fit(x0, y0, epochs=n_epoch, batch_size=32)\n",
    "\n",
    "    # predicting the data\n",
    "    predict_1 = model.predict(x0)\n",
    "\n",
    "    # compute r\n",
    "    predict_1 = predict_1.reshape(N0)\n",
    "    r = y0 - predict_1\n",
    "\n",
    "    plt.plot(x0, y0, color='black')\n",
    "    plt.plot(x0, predict_1, color='g')\n",
    "    plt.plot(x0, r, color='r')\n",
    "    plt.show()\n",
    "\n",
    "\n",
    "    # calculate r_p\n",
    "    px = 1/2/pi\n",
    "    rp = np.sqrt(px) * (r - np.mean(r))\n",
    "\n",
    "    # compute sum_low\n",
    "\n",
    "    e_low = 0\n",
    "    for i in range(N0-1):\n",
    "        for j in range(N0-1): \n",
    "            sinc = 1\n",
    "            if d == 1: \n",
    "                K = [1]\n",
    "            else: \n",
    "                K = range(1,d)\n",
    "            for k in K: \n",
    "                t = w0*(x0[j]**k - x0[i]**k)\n",
    "                if t == 0: \n",
    "                    sinc = sinc * 1\n",
    "                else: \n",
    "                    sinc = sinc * np.sin(t) / t\n",
    "            e_low = e_low + rp[i]*rp[j]/px/px * (w0 **d / pi**d) * sinc \n",
    "    e_low = e_low / (N0**2) / y_var\n",
    "    print(e_low)\n",
    "\n",
    "    # compute SB\n",
    "    var_r = np.var(r)\n",
    "    var_f = np.var(y)\n",
    "    FVU = var_r/var_f \n",
    "    print(FVU)\n",
    "    SB = (FVU-2*e_low)/FVU\n",
    "    print(SB)"
   ]
  },
  {
   "cell_type": "code",
   "execution_count": 27,
   "metadata": {},
   "outputs": [
    {
     "name": "stdout",
     "output_type": "stream",
     "text": [
      "Epoch 1/20\n",
      "32/32 [==============================] - 0s 783us/step - loss: 1.3727\n",
      "Epoch 2/20\n",
      "32/32 [==============================] - 0s 788us/step - loss: 1.3429\n",
      "Epoch 3/20\n",
      "32/32 [==============================] - 0s 950us/step - loss: 1.3492\n",
      "Epoch 4/20\n",
      "32/32 [==============================] - 0s 974us/step - loss: 1.3476\n",
      "Epoch 5/20\n",
      "32/32 [==============================] - 0s 976us/step - loss: 1.3594\n",
      "Epoch 6/20\n",
      "32/32 [==============================] - 0s 928us/step - loss: 1.3622\n",
      "Epoch 7/20\n",
      "32/32 [==============================] - 0s 807us/step - loss: 1.3504\n",
      "Epoch 8/20\n",
      "32/32 [==============================] - 0s 781us/step - loss: 1.3450\n",
      "Epoch 9/20\n",
      "32/32 [==============================] - 0s 710us/step - loss: 1.3494\n",
      "Epoch 10/20\n",
      "32/32 [==============================] - 0s 764us/step - loss: 1.3605\n",
      "Epoch 11/20\n",
      "32/32 [==============================] - 0s 744us/step - loss: 1.3621\n",
      "Epoch 12/20\n",
      "32/32 [==============================] - 0s 767us/step - loss: 1.3453\n",
      "Epoch 13/20\n",
      "32/32 [==============================] - 0s 787us/step - loss: 1.3479\n",
      "Epoch 14/20\n",
      "32/32 [==============================] - 0s 701us/step - loss: 1.3478\n",
      "Epoch 15/20\n",
      "32/32 [==============================] - 0s 712us/step - loss: 1.3451\n",
      "Epoch 16/20\n",
      "32/32 [==============================] - 0s 745us/step - loss: 1.3474\n",
      "Epoch 17/20\n",
      "32/32 [==============================] - 0s 781us/step - loss: 1.3557\n",
      "Epoch 18/20\n",
      "32/32 [==============================] - 0s 683us/step - loss: 1.3610\n",
      "Epoch 19/20\n",
      "32/32 [==============================] - 0s 695us/step - loss: 1.3524\n",
      "Epoch 20/20\n",
      "32/32 [==============================] - 0s 846us/step - loss: 1.3587\n"
     ]
    },
    {
     "data": {
      "image/png": "[encoded data removed]",
      "text/plain": [
       "<Figure size 432x288 with 1 Axes>"
      ]
     },
     "metadata": {
      "needs_background": "light"
     },
     "output_type": "display_data"
    },
    {
     "name": "stdout",
     "output_type": "stream",
     "text": [
      "0.008502033459466629\n",
      "0.6661781819807822\n",
      "0.9744751969084694\n"
     ]
    }
   ],
   "source": [
    "NN_epoch(20)"
   ]
  }
 ],
 "metadata": {
  "interpreter": {
   "hash": "88279d2366fe020547cde40dd65aa0e3aa662a6ec1f3ca12d88834876c85e1a6"
  },
  "kernelspec": {
   "display_name": "Python 3.8.8 ('base')",
   "language": "python",
   "name": "python3"
  },
  "language_info": {
   "codemirror_mode": {
    "name": "ipython",
    "version": 3
   },
   "file_extension": ".py",
   "mimetype": "text/x-python",
   "name": "python",
   "nbconvert_exporter": "python",
   "pygments_lexer": "ipython3",
   "version": "3.8.8"
  },
  "orig_nbformat": 4
 },
 "nbformat": 4,
 "nbformat_minor": 2
}
