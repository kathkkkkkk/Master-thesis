{
 "cells": [
  {
   "cell_type": "code",
   "execution_count": 112,
   "metadata": {},
   "outputs": [],
   "source": [
    "import numpy as np \n",
    "import matplotlib.pyplot as plt "
   ]
  },
  {
   "cell_type": "code",
   "execution_count": 113,
   "metadata": {},
   "outputs": [],
   "source": [
    "def f(x): \n",
    "    y = np.exp(-(32*x[:,0])**2/2) * np.exp(-(1/32*x[:,1])**2/2)\n",
    "    return y "
   ]
  },
  {
   "cell_type": "code",
   "execution_count": 114,
   "metadata": {},
   "outputs": [],
   "source": [
    "def generate_data(N_train, N_test, d): \n",
    "    \n",
    "    x_train = np.random.normal(0, 1, N_train*d).reshape((N_train, d))\n",
    "    #print(x_train)\n",
    "    y_train = f(x_train).reshape((N_train,1))\n",
    "    #print(y_train)\n",
    "\n",
    "    x_test = np.random.normal(0, 1, N_test*d).reshape((N_test, d))\n",
    "    y_test = f(x_test).reshape((N_test,1))\n",
    "    \n",
    "    # normalize the data \n",
    "    \n",
    "    mean_x = np.mean(x_train)\n",
    "    std_x = np.std(x_train, ddof=1)\n",
    "    mean_y = np.mean(y_train)\n",
    "    std_y = np.std(y_train, ddof=1)\n",
    "    \n",
    "    x_train = (x_train - mean_x)/std_x\n",
    "    y_train = (y_train - mean_y)/std_y\n",
    "    #print(y_train)\n",
    "    \n",
    "    x_test = (x_test - mean_x)/std_x\n",
    "    y_test = (y_test - mean_y)/std_y\n",
    "    \n",
    "    #x_test = (x_test - np.mean(x_test))/np.std(x_test, ddof=1)\n",
    "    #y_test = (y_test - np.mean(y_test))/np.std(y_test, ddof=1)\n",
    "    \n",
    "    return x_train, y_train, x_test, y_test"
   ]
  },
  {
   "cell_type": "code",
   "execution_count": 115,
   "metadata": {},
   "outputs": [
    {
     "data": {
      "text/plain": [
       "(10,)"
      ]
     },
     "execution_count": 115,
     "metadata": {},
     "output_type": "execute_result"
    }
   ],
   "source": [
    "one = np.ones(10)\n",
    "np.shape(one)"
   ]
  },
  {
   "cell_type": "code",
   "execution_count": 116,
   "metadata": {},
   "outputs": [],
   "source": [
    "# minimization function \n",
    "def min_fun(x, y, w, lambda_): \n",
    "    N = np.shape(x)[0]\n",
    "    K = np.shape(w)[0]\n",
    "    I = np.identity(K)\n",
    "    one = np.ones(N)\n",
    "    x_ = np.c_[x, one]\n",
    "    S = np.cos(x_.dot(w.T)) \n",
    "    beta = np.linalg.inv(np.dot(S.T, S) + lambda_ * N * I).dot(S.T).dot(y)\n",
    "    return beta, S"
   ]
  },
  {
   "cell_type": "code",
   "execution_count": 117,
   "metadata": {},
   "outputs": [],
   "source": [
    "def error_compute(y, S, beta):\n",
    "    N = np.shape(y)[0]\n",
    "    diff = S.dot(beta) - y\n",
    "    error = (np.linalg.norm(diff, ord=2))**2 / N\n",
    "    return error"
   ]
  },
  {
   "cell_type": "code",
   "execution_count": 118,
   "metadata": {},
   "outputs": [],
   "source": [
    "# Metropolis algorithm 1\n",
    "\n",
    "def algorithm_1(x_train, y_train, x_test, y_test, K, M, lambda_, delta, gamma):\n",
    "    \n",
    "    d = np.shape(x_train)[1] \n",
    "    \n",
    "    w = np.zeros(K*(d+1)).reshape((K, d+1))\n",
    "    \n",
    "    error_list = np.zeros(M*2).reshape(M,2)\n",
    "    \n",
    "    beta, S = min_fun(x_train, y_train, w, lambda_)\n",
    "    for i in range(M): \n",
    "        #print('w=', i)\n",
    "        r_n = np.random.normal(0, 1, K*(d+1)).reshape((K, d+1))\n",
    "        w_temp = w + delta * r_n\n",
    "        beta_temp, S_temp = min_fun(x_train, y_train, w_temp, lambda_)\n",
    "        for k in range(K): \n",
    "            #print('k=', k)\n",
    "            r_u = np.random.uniform(0, 1)\n",
    "            if (np.linalg.norm(beta_temp[k], ord=1)\n",
    "                /np.linalg.norm(beta[k], ord=1))**gamma > r_u: \n",
    "                w[k] = w_temp[k]\n",
    "                #print('w_k', w[k])\n",
    "                beta[k] = beta_temp[k]\n",
    "                #print('beta_k', beta[k])\n",
    "        beta, S = min_fun(x_train, y_train, w, lambda_)\n",
    "        \n",
    "        f_est = S.dot(beta) \n",
    "        error_train = error_compute(y_train, S, beta)\n",
    "        error_list[i,0] = error_train \n",
    "        \n",
    "        beta_test, S_test = min_fun(x_test, y_test, w, lambda_)\n",
    "        error_test = error_compute(y_test, S_test, beta)\n",
    "        error_list[i,1] = error_test\n",
    "        \n",
    "    return beta, w, f_est, error_list "
   ]
  },
  {
   "cell_type": "code",
   "execution_count": 119,
   "metadata": {},
   "outputs": [
    {
     "data": {
      "image/png": "[encoded data removed]",
      "text/plain": [
       "<Figure size 432x288 with 1 Axes>"
      ]
     },
     "metadata": {
      "needs_background": "light"
     },
     "output_type": "display_data"
    }
   ],
   "source": [
    "# generate data \n",
    "d = 2\n",
    "N = 10**4\n",
    "\n",
    "x_train, y_train, x_test, y_test = generate_data(N, N, d)\n",
    "\n",
    "M = 10**3\n",
    "K = 2**5\n",
    "lambda_ = 0.1\n",
    "delta = 0.5 \n",
    "gamma = 3*d - 2\n",
    "\n",
    "beta_1, w_1, f_est_1, error_1 = algorithm_1(x_train, y_train, \n",
    "                                            x_test, y_test, K, M, \n",
    "                                            lambda_, delta, gamma)\n",
    "\n",
    "M_list = np.arange(1, M+1)\n",
    "plt.plot(M_list, error_1[:,0], label = 'training-error')\n",
    "plt.plot(M_list, error_1[:,1], label = 'test-error')\n",
    "plt.legend()\n",
    "plt.show()"
   ]
  }
 ],
 "metadata": {
  "language_info": {
   "name": "python"
  },
  "orig_nbformat": 4
 },
 "nbformat": 4,
 "nbformat_minor": 2
}
